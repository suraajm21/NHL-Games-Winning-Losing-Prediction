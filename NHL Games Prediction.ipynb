{
 "cells": [
  {
   "cell_type": "markdown",
   "id": "c8af7b0a",
   "metadata": {},
   "source": [
    "## Importing Libraries"
   ]
  },
  {
   "cell_type": "code",
   "execution_count": 1,
   "id": "008fe1bd",
   "metadata": {},
   "outputs": [],
   "source": [
    "import pandas as pd\n",
    "import numpy as np\n",
    "import matplotlib.pyplot as plt\n",
    "import seaborn as sns\n",
    "from scipy.stats import skew\n",
    "from warnings import filterwarnings\n",
    "filterwarnings(action='ignore')"
   ]
  },
  {
   "cell_type": "markdown",
   "id": "c0b1b925",
   "metadata": {},
   "source": [
    "## Loading Dataset"
   ]
  },
  {
   "cell_type": "code",
   "execution_count": 2,
   "id": "14333e18",
   "metadata": {},
   "outputs": [
    {
     "name": "stdout",
     "output_type": "stream",
     "text": [
      "Successfully Imported Data!\n"
     ]
    },
    {
     "data": {
      "text/html": [
       "<div>\n",
       "<style scoped>\n",
       "    .dataframe tbody tr th:only-of-type {\n",
       "        vertical-align: middle;\n",
       "    }\n",
       "\n",
       "    .dataframe tbody tr th {\n",
       "        vertical-align: top;\n",
       "    }\n",
       "\n",
       "    .dataframe thead th {\n",
       "        text-align: right;\n",
       "    }\n",
       "</style>\n",
       "<table border=\"1\" class=\"dataframe\">\n",
       "  <thead>\n",
       "    <tr style=\"text-align: right;\">\n",
       "      <th></th>\n",
       "      <th>game_id</th>\n",
       "      <th>team_id</th>\n",
       "      <th>HoA</th>\n",
       "      <th>settled_in</th>\n",
       "      <th>head_coach</th>\n",
       "      <th>shots</th>\n",
       "      <th>hits</th>\n",
       "      <th>pim</th>\n",
       "      <th>powerPlayOpportunities</th>\n",
       "      <th>powerPlayGoals</th>\n",
       "      <th>faceOffWinPercentage</th>\n",
       "      <th>giveaways</th>\n",
       "      <th>takeaways</th>\n",
       "      <th>blocked</th>\n",
       "      <th>startRinkSide</th>\n",
       "      <th>goals</th>\n",
       "      <th>won</th>\n",
       "    </tr>\n",
       "  </thead>\n",
       "  <tbody>\n",
       "    <tr>\n",
       "      <th>0</th>\n",
       "      <td>2016020045</td>\n",
       "      <td>4</td>\n",
       "      <td>away</td>\n",
       "      <td>REG</td>\n",
       "      <td>Dave Hakstol</td>\n",
       "      <td>27.0</td>\n",
       "      <td>30.0</td>\n",
       "      <td>6.0</td>\n",
       "      <td>4.0</td>\n",
       "      <td>2.0</td>\n",
       "      <td>50.9</td>\n",
       "      <td>12.0</td>\n",
       "      <td>9.0</td>\n",
       "      <td>11.0</td>\n",
       "      <td>left</td>\n",
       "      <td>4.0</td>\n",
       "      <td>False</td>\n",
       "    </tr>\n",
       "    <tr>\n",
       "      <th>1</th>\n",
       "      <td>2016020045</td>\n",
       "      <td>16</td>\n",
       "      <td>home</td>\n",
       "      <td>REG</td>\n",
       "      <td>Joel Quenneville</td>\n",
       "      <td>28.0</td>\n",
       "      <td>20.0</td>\n",
       "      <td>8.0</td>\n",
       "      <td>3.0</td>\n",
       "      <td>2.0</td>\n",
       "      <td>49.1</td>\n",
       "      <td>16.0</td>\n",
       "      <td>8.0</td>\n",
       "      <td>9.0</td>\n",
       "      <td>left</td>\n",
       "      <td>7.0</td>\n",
       "      <td>True</td>\n",
       "    </tr>\n",
       "    <tr>\n",
       "      <th>2</th>\n",
       "      <td>2017020812</td>\n",
       "      <td>24</td>\n",
       "      <td>away</td>\n",
       "      <td>OT</td>\n",
       "      <td>Randy Carlyle</td>\n",
       "      <td>34.0</td>\n",
       "      <td>16.0</td>\n",
       "      <td>6.0</td>\n",
       "      <td>3.0</td>\n",
       "      <td>1.0</td>\n",
       "      <td>43.8</td>\n",
       "      <td>7.0</td>\n",
       "      <td>4.0</td>\n",
       "      <td>14.0</td>\n",
       "      <td>right</td>\n",
       "      <td>4.0</td>\n",
       "      <td>True</td>\n",
       "    </tr>\n",
       "    <tr>\n",
       "      <th>3</th>\n",
       "      <td>2017020812</td>\n",
       "      <td>7</td>\n",
       "      <td>home</td>\n",
       "      <td>OT</td>\n",
       "      <td>Phil Housley</td>\n",
       "      <td>33.0</td>\n",
       "      <td>17.0</td>\n",
       "      <td>8.0</td>\n",
       "      <td>2.0</td>\n",
       "      <td>1.0</td>\n",
       "      <td>56.2</td>\n",
       "      <td>5.0</td>\n",
       "      <td>6.0</td>\n",
       "      <td>14.0</td>\n",
       "      <td>right</td>\n",
       "      <td>3.0</td>\n",
       "      <td>False</td>\n",
       "    </tr>\n",
       "    <tr>\n",
       "      <th>4</th>\n",
       "      <td>2015020314</td>\n",
       "      <td>21</td>\n",
       "      <td>away</td>\n",
       "      <td>REG</td>\n",
       "      <td>Patrick Roy</td>\n",
       "      <td>29.0</td>\n",
       "      <td>17.0</td>\n",
       "      <td>9.0</td>\n",
       "      <td>3.0</td>\n",
       "      <td>1.0</td>\n",
       "      <td>45.7</td>\n",
       "      <td>13.0</td>\n",
       "      <td>5.0</td>\n",
       "      <td>20.0</td>\n",
       "      <td>left</td>\n",
       "      <td>4.0</td>\n",
       "      <td>True</td>\n",
       "    </tr>\n",
       "    <tr>\n",
       "      <th>...</th>\n",
       "      <td>...</td>\n",
       "      <td>...</td>\n",
       "      <td>...</td>\n",
       "      <td>...</td>\n",
       "      <td>...</td>\n",
       "      <td>...</td>\n",
       "      <td>...</td>\n",
       "      <td>...</td>\n",
       "      <td>...</td>\n",
       "      <td>...</td>\n",
       "      <td>...</td>\n",
       "      <td>...</td>\n",
       "      <td>...</td>\n",
       "      <td>...</td>\n",
       "      <td>...</td>\n",
       "      <td>...</td>\n",
       "      <td>...</td>\n",
       "    </tr>\n",
       "    <tr>\n",
       "      <th>52605</th>\n",
       "      <td>2018030416</td>\n",
       "      <td>19</td>\n",
       "      <td>home</td>\n",
       "      <td>REG</td>\n",
       "      <td>Craig Berube</td>\n",
       "      <td>29.0</td>\n",
       "      <td>29.0</td>\n",
       "      <td>20.0</td>\n",
       "      <td>4.0</td>\n",
       "      <td>0.0</td>\n",
       "      <td>58.7</td>\n",
       "      <td>12.0</td>\n",
       "      <td>11.0</td>\n",
       "      <td>9.0</td>\n",
       "      <td>right</td>\n",
       "      <td>1.0</td>\n",
       "      <td>False</td>\n",
       "    </tr>\n",
       "    <tr>\n",
       "      <th>52606</th>\n",
       "      <td>2018030417</td>\n",
       "      <td>19</td>\n",
       "      <td>away</td>\n",
       "      <td>REG</td>\n",
       "      <td>Craig Berube</td>\n",
       "      <td>20.0</td>\n",
       "      <td>36.0</td>\n",
       "      <td>2.0</td>\n",
       "      <td>0.0</td>\n",
       "      <td>0.0</td>\n",
       "      <td>49.0</td>\n",
       "      <td>7.0</td>\n",
       "      <td>8.0</td>\n",
       "      <td>21.0</td>\n",
       "      <td>right</td>\n",
       "      <td>4.0</td>\n",
       "      <td>True</td>\n",
       "    </tr>\n",
       "    <tr>\n",
       "      <th>52607</th>\n",
       "      <td>2018030417</td>\n",
       "      <td>6</td>\n",
       "      <td>home</td>\n",
       "      <td>REG</td>\n",
       "      <td>Bruce Cassidy</td>\n",
       "      <td>33.0</td>\n",
       "      <td>28.0</td>\n",
       "      <td>0.0</td>\n",
       "      <td>1.0</td>\n",
       "      <td>0.0</td>\n",
       "      <td>51.0</td>\n",
       "      <td>13.0</td>\n",
       "      <td>6.0</td>\n",
       "      <td>7.0</td>\n",
       "      <td>right</td>\n",
       "      <td>1.0</td>\n",
       "      <td>False</td>\n",
       "    </tr>\n",
       "    <tr>\n",
       "      <th>52608</th>\n",
       "      <td>2018030417</td>\n",
       "      <td>19</td>\n",
       "      <td>away</td>\n",
       "      <td>REG</td>\n",
       "      <td>Craig Berube</td>\n",
       "      <td>20.0</td>\n",
       "      <td>36.0</td>\n",
       "      <td>2.0</td>\n",
       "      <td>0.0</td>\n",
       "      <td>0.0</td>\n",
       "      <td>49.0</td>\n",
       "      <td>7.0</td>\n",
       "      <td>8.0</td>\n",
       "      <td>21.0</td>\n",
       "      <td>right</td>\n",
       "      <td>4.0</td>\n",
       "      <td>True</td>\n",
       "    </tr>\n",
       "    <tr>\n",
       "      <th>52609</th>\n",
       "      <td>2018030417</td>\n",
       "      <td>6</td>\n",
       "      <td>home</td>\n",
       "      <td>REG</td>\n",
       "      <td>Bruce Cassidy</td>\n",
       "      <td>33.0</td>\n",
       "      <td>28.0</td>\n",
       "      <td>0.0</td>\n",
       "      <td>1.0</td>\n",
       "      <td>0.0</td>\n",
       "      <td>51.0</td>\n",
       "      <td>13.0</td>\n",
       "      <td>6.0</td>\n",
       "      <td>7.0</td>\n",
       "      <td>right</td>\n",
       "      <td>1.0</td>\n",
       "      <td>False</td>\n",
       "    </tr>\n",
       "  </tbody>\n",
       "</table>\n",
       "<p>52610 rows × 17 columns</p>\n",
       "</div>"
      ],
      "text/plain": [
       "          game_id  team_id   HoA settled_in        head_coach  shots  hits  \\\n",
       "0      2016020045        4  away        REG      Dave Hakstol   27.0  30.0   \n",
       "1      2016020045       16  home        REG  Joel Quenneville   28.0  20.0   \n",
       "2      2017020812       24  away         OT     Randy Carlyle   34.0  16.0   \n",
       "3      2017020812        7  home         OT      Phil Housley   33.0  17.0   \n",
       "4      2015020314       21  away        REG       Patrick Roy   29.0  17.0   \n",
       "...           ...      ...   ...        ...               ...    ...   ...   \n",
       "52605  2018030416       19  home        REG      Craig Berube   29.0  29.0   \n",
       "52606  2018030417       19  away        REG      Craig Berube   20.0  36.0   \n",
       "52607  2018030417        6  home        REG     Bruce Cassidy   33.0  28.0   \n",
       "52608  2018030417       19  away        REG      Craig Berube   20.0  36.0   \n",
       "52609  2018030417        6  home        REG     Bruce Cassidy   33.0  28.0   \n",
       "\n",
       "        pim  powerPlayOpportunities  powerPlayGoals  faceOffWinPercentage  \\\n",
       "0       6.0                     4.0             2.0                  50.9   \n",
       "1       8.0                     3.0             2.0                  49.1   \n",
       "2       6.0                     3.0             1.0                  43.8   \n",
       "3       8.0                     2.0             1.0                  56.2   \n",
       "4       9.0                     3.0             1.0                  45.7   \n",
       "...     ...                     ...             ...                   ...   \n",
       "52605  20.0                     4.0             0.0                  58.7   \n",
       "52606   2.0                     0.0             0.0                  49.0   \n",
       "52607   0.0                     1.0             0.0                  51.0   \n",
       "52608   2.0                     0.0             0.0                  49.0   \n",
       "52609   0.0                     1.0             0.0                  51.0   \n",
       "\n",
       "       giveaways  takeaways  blocked startRinkSide  goals    won  \n",
       "0           12.0        9.0     11.0          left    4.0  False  \n",
       "1           16.0        8.0      9.0          left    7.0   True  \n",
       "2            7.0        4.0     14.0         right    4.0   True  \n",
       "3            5.0        6.0     14.0         right    3.0  False  \n",
       "4           13.0        5.0     20.0          left    4.0   True  \n",
       "...          ...        ...      ...           ...    ...    ...  \n",
       "52605       12.0       11.0      9.0         right    1.0  False  \n",
       "52606        7.0        8.0     21.0         right    4.0   True  \n",
       "52607       13.0        6.0      7.0         right    1.0  False  \n",
       "52608        7.0        8.0     21.0         right    4.0   True  \n",
       "52609       13.0        6.0      7.0         right    1.0  False  \n",
       "\n",
       "[52610 rows x 17 columns]"
      ]
     },
     "execution_count": 2,
     "metadata": {},
     "output_type": "execute_result"
    }
   ],
   "source": [
    "df=pd.read_excel(r'C:\\Users\\User\\Documents\\Projects\\ML Projects\\NHL Games Prediction\\game_teams_stats.xlsx')\n",
    "print(\"Successfully Imported Data!\")\n",
    "df"
   ]
  },
  {
   "cell_type": "markdown",
   "id": "76660c9e",
   "metadata": {},
   "source": [
    "## Data Profiling"
   ]
  },
  {
   "cell_type": "markdown",
   "id": "cac06219",
   "metadata": {},
   "source": [
    "### Shape of the dataset"
   ]
  },
  {
   "cell_type": "code",
   "execution_count": 3,
   "id": "8de31571",
   "metadata": {},
   "outputs": [
    {
     "name": "stdout",
     "output_type": "stream",
     "text": [
      "(52610, 17)\n"
     ]
    }
   ],
   "source": [
    "print(df.shape)"
   ]
  },
  {
   "cell_type": "markdown",
   "id": "f5ed5242",
   "metadata": {},
   "source": [
    "## Description"
   ]
  },
  {
   "cell_type": "markdown",
   "id": "bb10f34e",
   "metadata": {},
   "source": [
    "### Statistical summary of data"
   ]
  },
  {
   "cell_type": "code",
   "execution_count": 4,
   "id": "1400f201",
   "metadata": {},
   "outputs": [
    {
     "data": {
      "text/html": [
       "<div>\n",
       "<style scoped>\n",
       "    .dataframe tbody tr th:only-of-type {\n",
       "        vertical-align: middle;\n",
       "    }\n",
       "\n",
       "    .dataframe tbody tr th {\n",
       "        vertical-align: top;\n",
       "    }\n",
       "\n",
       "    .dataframe thead th {\n",
       "        text-align: right;\n",
       "    }\n",
       "</style>\n",
       "<table border=\"1\" class=\"dataframe\">\n",
       "  <thead>\n",
       "    <tr style=\"text-align: right;\">\n",
       "      <th></th>\n",
       "      <th>game_id</th>\n",
       "      <th>team_id</th>\n",
       "      <th>shots</th>\n",
       "      <th>hits</th>\n",
       "      <th>pim</th>\n",
       "      <th>powerPlayOpportunities</th>\n",
       "      <th>powerPlayGoals</th>\n",
       "      <th>faceOffWinPercentage</th>\n",
       "      <th>giveaways</th>\n",
       "      <th>takeaways</th>\n",
       "      <th>blocked</th>\n",
       "      <th>goals</th>\n",
       "    </tr>\n",
       "  </thead>\n",
       "  <tbody>\n",
       "    <tr>\n",
       "      <th>count</th>\n",
       "      <td>5.261000e+04</td>\n",
       "      <td>52610.000000</td>\n",
       "      <td>52602.000000</td>\n",
       "      <td>47682.000000</td>\n",
       "      <td>52602.000000</td>\n",
       "      <td>52602.000000</td>\n",
       "      <td>52602.000000</td>\n",
       "      <td>30462.000000</td>\n",
       "      <td>47682.000000</td>\n",
       "      <td>47682.000000</td>\n",
       "      <td>47682.000000</td>\n",
       "      <td>52602.000000</td>\n",
       "    </tr>\n",
       "    <tr>\n",
       "      <th>mean</th>\n",
       "      <td>2.010765e+09</td>\n",
       "      <td>16.880403</td>\n",
       "      <td>29.930744</td>\n",
       "      <td>21.127449</td>\n",
       "      <td>11.754838</td>\n",
       "      <td>3.693567</td>\n",
       "      <td>0.667674</td>\n",
       "      <td>49.967179</td>\n",
       "      <td>8.832977</td>\n",
       "      <td>6.745040</td>\n",
       "      <td>13.317352</td>\n",
       "      <td>2.781282</td>\n",
       "    </tr>\n",
       "    <tr>\n",
       "      <th>std</th>\n",
       "      <td>6.073510e+06</td>\n",
       "      <td>11.195171</td>\n",
       "      <td>6.896107</td>\n",
       "      <td>9.237332</td>\n",
       "      <td>9.029566</td>\n",
       "      <td>1.870606</td>\n",
       "      <td>0.813093</td>\n",
       "      <td>7.326322</td>\n",
       "      <td>5.478274</td>\n",
       "      <td>4.144502</td>\n",
       "      <td>5.581261</td>\n",
       "      <td>1.657257</td>\n",
       "    </tr>\n",
       "    <tr>\n",
       "      <th>min</th>\n",
       "      <td>2.000020e+09</td>\n",
       "      <td>1.000000</td>\n",
       "      <td>0.000000</td>\n",
       "      <td>0.000000</td>\n",
       "      <td>0.000000</td>\n",
       "      <td>0.000000</td>\n",
       "      <td>0.000000</td>\n",
       "      <td>0.000000</td>\n",
       "      <td>0.000000</td>\n",
       "      <td>0.000000</td>\n",
       "      <td>0.000000</td>\n",
       "      <td>0.000000</td>\n",
       "    </tr>\n",
       "    <tr>\n",
       "      <th>25%</th>\n",
       "      <td>2.006020e+09</td>\n",
       "      <td>8.000000</td>\n",
       "      <td>25.000000</td>\n",
       "      <td>15.000000</td>\n",
       "      <td>6.000000</td>\n",
       "      <td>2.000000</td>\n",
       "      <td>0.000000</td>\n",
       "      <td>45.200000</td>\n",
       "      <td>5.000000</td>\n",
       "      <td>4.000000</td>\n",
       "      <td>10.000000</td>\n",
       "      <td>2.000000</td>\n",
       "    </tr>\n",
       "    <tr>\n",
       "      <th>50%</th>\n",
       "      <td>2.011021e+09</td>\n",
       "      <td>16.000000</td>\n",
       "      <td>30.000000</td>\n",
       "      <td>20.000000</td>\n",
       "      <td>10.000000</td>\n",
       "      <td>3.000000</td>\n",
       "      <td>0.000000</td>\n",
       "      <td>50.000000</td>\n",
       "      <td>8.000000</td>\n",
       "      <td>6.000000</td>\n",
       "      <td>13.000000</td>\n",
       "      <td>3.000000</td>\n",
       "    </tr>\n",
       "    <tr>\n",
       "      <th>75%</th>\n",
       "      <td>2.016030e+09</td>\n",
       "      <td>24.000000</td>\n",
       "      <td>34.000000</td>\n",
       "      <td>27.000000</td>\n",
       "      <td>15.000000</td>\n",
       "      <td>5.000000</td>\n",
       "      <td>1.000000</td>\n",
       "      <td>54.800000</td>\n",
       "      <td>12.000000</td>\n",
       "      <td>9.000000</td>\n",
       "      <td>17.000000</td>\n",
       "      <td>4.000000</td>\n",
       "    </tr>\n",
       "    <tr>\n",
       "      <th>max</th>\n",
       "      <td>2.019041e+09</td>\n",
       "      <td>90.000000</td>\n",
       "      <td>88.000000</td>\n",
       "      <td>80.000000</td>\n",
       "      <td>213.000000</td>\n",
       "      <td>16.000000</td>\n",
       "      <td>7.000000</td>\n",
       "      <td>79.200000</td>\n",
       "      <td>52.000000</td>\n",
       "      <td>40.000000</td>\n",
       "      <td>62.000000</td>\n",
       "      <td>12.000000</td>\n",
       "    </tr>\n",
       "  </tbody>\n",
       "</table>\n",
       "</div>"
      ],
      "text/plain": [
       "            game_id       team_id         shots          hits           pim  \\\n",
       "count  5.261000e+04  52610.000000  52602.000000  47682.000000  52602.000000   \n",
       "mean   2.010765e+09     16.880403     29.930744     21.127449     11.754838   \n",
       "std    6.073510e+06     11.195171      6.896107      9.237332      9.029566   \n",
       "min    2.000020e+09      1.000000      0.000000      0.000000      0.000000   \n",
       "25%    2.006020e+09      8.000000     25.000000     15.000000      6.000000   \n",
       "50%    2.011021e+09     16.000000     30.000000     20.000000     10.000000   \n",
       "75%    2.016030e+09     24.000000     34.000000     27.000000     15.000000   \n",
       "max    2.019041e+09     90.000000     88.000000     80.000000    213.000000   \n",
       "\n",
       "       powerPlayOpportunities  powerPlayGoals  faceOffWinPercentage  \\\n",
       "count            52602.000000    52602.000000          30462.000000   \n",
       "mean                 3.693567        0.667674             49.967179   \n",
       "std                  1.870606        0.813093              7.326322   \n",
       "min                  0.000000        0.000000              0.000000   \n",
       "25%                  2.000000        0.000000             45.200000   \n",
       "50%                  3.000000        0.000000             50.000000   \n",
       "75%                  5.000000        1.000000             54.800000   \n",
       "max                 16.000000        7.000000             79.200000   \n",
       "\n",
       "          giveaways     takeaways       blocked         goals  \n",
       "count  47682.000000  47682.000000  47682.000000  52602.000000  \n",
       "mean       8.832977      6.745040     13.317352      2.781282  \n",
       "std        5.478274      4.144502      5.581261      1.657257  \n",
       "min        0.000000      0.000000      0.000000      0.000000  \n",
       "25%        5.000000      4.000000     10.000000      2.000000  \n",
       "50%        8.000000      6.000000     13.000000      3.000000  \n",
       "75%       12.000000      9.000000     17.000000      4.000000  \n",
       "max       52.000000     40.000000     62.000000     12.000000  "
      ]
     },
     "execution_count": 4,
     "metadata": {},
     "output_type": "execute_result"
    }
   ],
   "source": [
    "df.describe()"
   ]
  },
  {
   "cell_type": "markdown",
   "id": "4b23f170",
   "metadata": {},
   "source": [
    "### Feature information"
   ]
  },
  {
   "cell_type": "code",
   "execution_count": 5,
   "id": "172199a5",
   "metadata": {},
   "outputs": [
    {
     "name": "stdout",
     "output_type": "stream",
     "text": [
      "<class 'pandas.core.frame.DataFrame'>\n",
      "RangeIndex: 52610 entries, 0 to 52609\n",
      "Data columns (total 17 columns):\n",
      " #   Column                  Non-Null Count  Dtype  \n",
      "---  ------                  --------------  -----  \n",
      " 0   game_id                 52610 non-null  int64  \n",
      " 1   team_id                 52610 non-null  int64  \n",
      " 2   HoA                     52610 non-null  object \n",
      " 3   settled_in              52610 non-null  object \n",
      " 4   head_coach              52582 non-null  object \n",
      " 5   shots                   52602 non-null  float64\n",
      " 6   hits                    47682 non-null  float64\n",
      " 7   pim                     52602 non-null  float64\n",
      " 8   powerPlayOpportunities  52602 non-null  float64\n",
      " 9   powerPlayGoals          52602 non-null  float64\n",
      " 10  faceOffWinPercentage    30462 non-null  float64\n",
      " 11  giveaways               47682 non-null  float64\n",
      " 12  takeaways               47682 non-null  float64\n",
      " 13  blocked                 47682 non-null  float64\n",
      " 14  startRinkSide           50218 non-null  object \n",
      " 15  goals                   52602 non-null  float64\n",
      " 16  won                     52610 non-null  bool   \n",
      "dtypes: bool(1), float64(10), int64(2), object(4)\n",
      "memory usage: 6.5+ MB\n"
     ]
    }
   ],
   "source": [
    "df.info()"
   ]
  },
  {
   "cell_type": "markdown",
   "id": "61046923",
   "metadata": {},
   "source": [
    "## Structure of the Dataset"
   ]
  },
  {
   "cell_type": "code",
   "execution_count": 6,
   "id": "af8fb532",
   "metadata": {},
   "outputs": [
    {
     "name": "stdout",
     "output_type": "stream",
     "text": [
      "The credit rating dataset has 52610 records, each with 17 attributes\n"
     ]
    }
   ],
   "source": [
    "df_shape = df.shape\n",
    "print(\"The credit rating dataset has\", df_shape[0], \"records, each with\", df_shape[1],\"attributes\")"
   ]
  },
  {
   "cell_type": "markdown",
   "id": "540f47fa",
   "metadata": {},
   "source": [
    "## Finding Null Values"
   ]
  },
  {
   "cell_type": "code",
   "execution_count": 7,
   "id": "fe62626c",
   "metadata": {},
   "outputs": [
    {
     "name": "stdout",
     "output_type": "stream",
     "text": [
      "game_id                       0\n",
      "team_id                       0\n",
      "HoA                           0\n",
      "settled_in                    0\n",
      "head_coach                   28\n",
      "shots                         8\n",
      "hits                       4928\n",
      "pim                           8\n",
      "powerPlayOpportunities        8\n",
      "powerPlayGoals                8\n",
      "faceOffWinPercentage      22148\n",
      "giveaways                  4928\n",
      "takeaways                  4928\n",
      "blocked                    4928\n",
      "startRinkSide              2392\n",
      "goals                         8\n",
      "won                           0\n",
      "dtype: int64\n"
     ]
    }
   ],
   "source": [
    "print(df.isna().sum())"
   ]
  },
  {
   "cell_type": "code",
   "execution_count": 8,
   "id": "3f35d223",
   "metadata": {},
   "outputs": [
    {
     "data": {
      "text/html": [
       "<div>\n",
       "<style scoped>\n",
       "    .dataframe tbody tr th:only-of-type {\n",
       "        vertical-align: middle;\n",
       "    }\n",
       "\n",
       "    .dataframe tbody tr th {\n",
       "        vertical-align: top;\n",
       "    }\n",
       "\n",
       "    .dataframe thead th {\n",
       "        text-align: right;\n",
       "    }\n",
       "</style>\n",
       "<table border=\"1\" class=\"dataframe\">\n",
       "  <thead>\n",
       "    <tr style=\"text-align: right;\">\n",
       "      <th></th>\n",
       "      <th>game_id</th>\n",
       "      <th>team_id</th>\n",
       "      <th>shots</th>\n",
       "      <th>hits</th>\n",
       "      <th>pim</th>\n",
       "      <th>powerPlayOpportunities</th>\n",
       "      <th>powerPlayGoals</th>\n",
       "      <th>faceOffWinPercentage</th>\n",
       "      <th>giveaways</th>\n",
       "      <th>takeaways</th>\n",
       "      <th>blocked</th>\n",
       "      <th>goals</th>\n",
       "      <th>won</th>\n",
       "    </tr>\n",
       "  </thead>\n",
       "  <tbody>\n",
       "    <tr>\n",
       "      <th>game_id</th>\n",
       "      <td>1.000000</td>\n",
       "      <td>0.122000</td>\n",
       "      <td>0.154728</td>\n",
       "      <td>0.342978</td>\n",
       "      <td>-0.282431</td>\n",
       "      <td>-0.344502</td>\n",
       "      <td>-0.092124</td>\n",
       "      <td>-0.001894</td>\n",
       "      <td>0.133770</td>\n",
       "      <td>0.145461</td>\n",
       "      <td>0.278443</td>\n",
       "      <td>0.037271</td>\n",
       "      <td>0.035644</td>\n",
       "    </tr>\n",
       "    <tr>\n",
       "      <th>team_id</th>\n",
       "      <td>0.122000</td>\n",
       "      <td>1.000000</td>\n",
       "      <td>-0.019162</td>\n",
       "      <td>0.011246</td>\n",
       "      <td>-0.044171</td>\n",
       "      <td>-0.032043</td>\n",
       "      <td>-0.014289</td>\n",
       "      <td>0.009204</td>\n",
       "      <td>-0.028017</td>\n",
       "      <td>-0.002926</td>\n",
       "      <td>-0.005821</td>\n",
       "      <td>-0.007874</td>\n",
       "      <td>-0.001185</td>\n",
       "    </tr>\n",
       "    <tr>\n",
       "      <th>shots</th>\n",
       "      <td>0.154728</td>\n",
       "      <td>-0.019162</td>\n",
       "      <td>1.000000</td>\n",
       "      <td>0.050009</td>\n",
       "      <td>-0.082409</td>\n",
       "      <td>0.120679</td>\n",
       "      <td>0.083634</td>\n",
       "      <td>0.138162</td>\n",
       "      <td>0.048839</td>\n",
       "      <td>0.099960</td>\n",
       "      <td>-0.074203</td>\n",
       "      <td>0.150048</td>\n",
       "      <td>0.025200</td>\n",
       "    </tr>\n",
       "    <tr>\n",
       "      <th>hits</th>\n",
       "      <td>0.342978</td>\n",
       "      <td>0.011246</td>\n",
       "      <td>0.050009</td>\n",
       "      <td>1.000000</td>\n",
       "      <td>-0.062390</td>\n",
       "      <td>-0.187209</td>\n",
       "      <td>-0.073287</td>\n",
       "      <td>0.003448</td>\n",
       "      <td>0.202028</td>\n",
       "      <td>0.165264</td>\n",
       "      <td>0.291648</td>\n",
       "      <td>-0.064944</td>\n",
       "      <td>-0.039339</td>\n",
       "    </tr>\n",
       "    <tr>\n",
       "      <th>pim</th>\n",
       "      <td>-0.282431</td>\n",
       "      <td>-0.044171</td>\n",
       "      <td>-0.082409</td>\n",
       "      <td>-0.062390</td>\n",
       "      <td>1.000000</td>\n",
       "      <td>0.290575</td>\n",
       "      <td>0.125317</td>\n",
       "      <td>-0.008737</td>\n",
       "      <td>-0.067719</td>\n",
       "      <td>-0.068962</td>\n",
       "      <td>-0.063378</td>\n",
       "      <td>0.038303</td>\n",
       "      <td>-0.040231</td>\n",
       "    </tr>\n",
       "    <tr>\n",
       "      <th>powerPlayOpportunities</th>\n",
       "      <td>-0.344502</td>\n",
       "      <td>-0.032043</td>\n",
       "      <td>0.120679</td>\n",
       "      <td>-0.187209</td>\n",
       "      <td>0.290575</td>\n",
       "      <td>1.000000</td>\n",
       "      <td>0.416477</td>\n",
       "      <td>0.045209</td>\n",
       "      <td>-0.011836</td>\n",
       "      <td>-0.059365</td>\n",
       "      <td>-0.163430</td>\n",
       "      <td>0.097074</td>\n",
       "      <td>0.014049</td>\n",
       "    </tr>\n",
       "    <tr>\n",
       "      <th>powerPlayGoals</th>\n",
       "      <td>-0.092124</td>\n",
       "      <td>-0.014289</td>\n",
       "      <td>0.083634</td>\n",
       "      <td>-0.073287</td>\n",
       "      <td>0.125317</td>\n",
       "      <td>0.416477</td>\n",
       "      <td>1.000000</td>\n",
       "      <td>0.024791</td>\n",
       "      <td>-0.001385</td>\n",
       "      <td>0.014879</td>\n",
       "      <td>0.008025</td>\n",
       "      <td>0.459827</td>\n",
       "      <td>0.240823</td>\n",
       "    </tr>\n",
       "    <tr>\n",
       "      <th>faceOffWinPercentage</th>\n",
       "      <td>-0.001894</td>\n",
       "      <td>0.009204</td>\n",
       "      <td>0.138162</td>\n",
       "      <td>0.003448</td>\n",
       "      <td>-0.008737</td>\n",
       "      <td>0.045209</td>\n",
       "      <td>0.024791</td>\n",
       "      <td>1.000000</td>\n",
       "      <td>0.068740</td>\n",
       "      <td>0.059343</td>\n",
       "      <td>-0.080402</td>\n",
       "      <td>0.035202</td>\n",
       "      <td>0.030458</td>\n",
       "    </tr>\n",
       "    <tr>\n",
       "      <th>giveaways</th>\n",
       "      <td>0.133770</td>\n",
       "      <td>-0.028017</td>\n",
       "      <td>0.048839</td>\n",
       "      <td>0.202028</td>\n",
       "      <td>-0.067719</td>\n",
       "      <td>-0.011836</td>\n",
       "      <td>-0.001385</td>\n",
       "      <td>0.068740</td>\n",
       "      <td>1.000000</td>\n",
       "      <td>0.337996</td>\n",
       "      <td>0.226224</td>\n",
       "      <td>0.012130</td>\n",
       "      <td>-0.004803</td>\n",
       "    </tr>\n",
       "    <tr>\n",
       "      <th>takeaways</th>\n",
       "      <td>0.145461</td>\n",
       "      <td>-0.002926</td>\n",
       "      <td>0.099960</td>\n",
       "      <td>0.165264</td>\n",
       "      <td>-0.068962</td>\n",
       "      <td>-0.059365</td>\n",
       "      <td>0.014879</td>\n",
       "      <td>0.059343</td>\n",
       "      <td>0.337996</td>\n",
       "      <td>1.000000</td>\n",
       "      <td>0.225506</td>\n",
       "      <td>0.095462</td>\n",
       "      <td>0.104937</td>\n",
       "    </tr>\n",
       "    <tr>\n",
       "      <th>blocked</th>\n",
       "      <td>0.278443</td>\n",
       "      <td>-0.005821</td>\n",
       "      <td>-0.074203</td>\n",
       "      <td>0.291648</td>\n",
       "      <td>-0.063378</td>\n",
       "      <td>-0.163430</td>\n",
       "      <td>0.008025</td>\n",
       "      <td>-0.080402</td>\n",
       "      <td>0.226224</td>\n",
       "      <td>0.225506</td>\n",
       "      <td>1.000000</td>\n",
       "      <td>0.093338</td>\n",
       "      <td>0.166406</td>\n",
       "    </tr>\n",
       "    <tr>\n",
       "      <th>goals</th>\n",
       "      <td>0.037271</td>\n",
       "      <td>-0.007874</td>\n",
       "      <td>0.150048</td>\n",
       "      <td>-0.064944</td>\n",
       "      <td>0.038303</td>\n",
       "      <td>0.097074</td>\n",
       "      <td>0.459827</td>\n",
       "      <td>0.035202</td>\n",
       "      <td>0.012130</td>\n",
       "      <td>0.095462</td>\n",
       "      <td>0.093338</td>\n",
       "      <td>1.000000</td>\n",
       "      <td>0.596658</td>\n",
       "    </tr>\n",
       "    <tr>\n",
       "      <th>won</th>\n",
       "      <td>0.035644</td>\n",
       "      <td>-0.001185</td>\n",
       "      <td>0.025200</td>\n",
       "      <td>-0.039339</td>\n",
       "      <td>-0.040231</td>\n",
       "      <td>0.014049</td>\n",
       "      <td>0.240823</td>\n",
       "      <td>0.030458</td>\n",
       "      <td>-0.004803</td>\n",
       "      <td>0.104937</td>\n",
       "      <td>0.166406</td>\n",
       "      <td>0.596658</td>\n",
       "      <td>1.000000</td>\n",
       "    </tr>\n",
       "  </tbody>\n",
       "</table>\n",
       "</div>"
      ],
      "text/plain": [
       "                         game_id   team_id     shots      hits       pim  \\\n",
       "game_id                 1.000000  0.122000  0.154728  0.342978 -0.282431   \n",
       "team_id                 0.122000  1.000000 -0.019162  0.011246 -0.044171   \n",
       "shots                   0.154728 -0.019162  1.000000  0.050009 -0.082409   \n",
       "hits                    0.342978  0.011246  0.050009  1.000000 -0.062390   \n",
       "pim                    -0.282431 -0.044171 -0.082409 -0.062390  1.000000   \n",
       "powerPlayOpportunities -0.344502 -0.032043  0.120679 -0.187209  0.290575   \n",
       "powerPlayGoals         -0.092124 -0.014289  0.083634 -0.073287  0.125317   \n",
       "faceOffWinPercentage   -0.001894  0.009204  0.138162  0.003448 -0.008737   \n",
       "giveaways               0.133770 -0.028017  0.048839  0.202028 -0.067719   \n",
       "takeaways               0.145461 -0.002926  0.099960  0.165264 -0.068962   \n",
       "blocked                 0.278443 -0.005821 -0.074203  0.291648 -0.063378   \n",
       "goals                   0.037271 -0.007874  0.150048 -0.064944  0.038303   \n",
       "won                     0.035644 -0.001185  0.025200 -0.039339 -0.040231   \n",
       "\n",
       "                        powerPlayOpportunities  powerPlayGoals  \\\n",
       "game_id                              -0.344502       -0.092124   \n",
       "team_id                              -0.032043       -0.014289   \n",
       "shots                                 0.120679        0.083634   \n",
       "hits                                 -0.187209       -0.073287   \n",
       "pim                                   0.290575        0.125317   \n",
       "powerPlayOpportunities                1.000000        0.416477   \n",
       "powerPlayGoals                        0.416477        1.000000   \n",
       "faceOffWinPercentage                  0.045209        0.024791   \n",
       "giveaways                            -0.011836       -0.001385   \n",
       "takeaways                            -0.059365        0.014879   \n",
       "blocked                              -0.163430        0.008025   \n",
       "goals                                 0.097074        0.459827   \n",
       "won                                   0.014049        0.240823   \n",
       "\n",
       "                        faceOffWinPercentage  giveaways  takeaways   blocked  \\\n",
       "game_id                            -0.001894   0.133770   0.145461  0.278443   \n",
       "team_id                             0.009204  -0.028017  -0.002926 -0.005821   \n",
       "shots                               0.138162   0.048839   0.099960 -0.074203   \n",
       "hits                                0.003448   0.202028   0.165264  0.291648   \n",
       "pim                                -0.008737  -0.067719  -0.068962 -0.063378   \n",
       "powerPlayOpportunities              0.045209  -0.011836  -0.059365 -0.163430   \n",
       "powerPlayGoals                      0.024791  -0.001385   0.014879  0.008025   \n",
       "faceOffWinPercentage                1.000000   0.068740   0.059343 -0.080402   \n",
       "giveaways                           0.068740   1.000000   0.337996  0.226224   \n",
       "takeaways                           0.059343   0.337996   1.000000  0.225506   \n",
       "blocked                            -0.080402   0.226224   0.225506  1.000000   \n",
       "goals                               0.035202   0.012130   0.095462  0.093338   \n",
       "won                                 0.030458  -0.004803   0.104937  0.166406   \n",
       "\n",
       "                           goals       won  \n",
       "game_id                 0.037271  0.035644  \n",
       "team_id                -0.007874 -0.001185  \n",
       "shots                   0.150048  0.025200  \n",
       "hits                   -0.064944 -0.039339  \n",
       "pim                     0.038303 -0.040231  \n",
       "powerPlayOpportunities  0.097074  0.014049  \n",
       "powerPlayGoals          0.459827  0.240823  \n",
       "faceOffWinPercentage    0.035202  0.030458  \n",
       "giveaways               0.012130 -0.004803  \n",
       "takeaways               0.095462  0.104937  \n",
       "blocked                 0.093338  0.166406  \n",
       "goals                   1.000000  0.596658  \n",
       "won                     0.596658  1.000000  "
      ]
     },
     "execution_count": 8,
     "metadata": {},
     "output_type": "execute_result"
    }
   ],
   "source": [
    "df.corr()"
   ]
  },
  {
   "cell_type": "code",
   "execution_count": 9,
   "id": "023679af",
   "metadata": {},
   "outputs": [
    {
     "data": {
      "text/html": [
       "<div>\n",
       "<style scoped>\n",
       "    .dataframe tbody tr th:only-of-type {\n",
       "        vertical-align: middle;\n",
       "    }\n",
       "\n",
       "    .dataframe tbody tr th {\n",
       "        vertical-align: top;\n",
       "    }\n",
       "\n",
       "    .dataframe thead th {\n",
       "        text-align: right;\n",
       "    }\n",
       "</style>\n",
       "<table border=\"1\" class=\"dataframe\">\n",
       "  <thead>\n",
       "    <tr style=\"text-align: right;\">\n",
       "      <th></th>\n",
       "      <th>game_id</th>\n",
       "      <th>team_id</th>\n",
       "      <th>shots</th>\n",
       "      <th>hits</th>\n",
       "      <th>pim</th>\n",
       "      <th>powerPlayOpportunities</th>\n",
       "      <th>powerPlayGoals</th>\n",
       "      <th>faceOffWinPercentage</th>\n",
       "      <th>giveaways</th>\n",
       "      <th>takeaways</th>\n",
       "      <th>blocked</th>\n",
       "      <th>won</th>\n",
       "    </tr>\n",
       "    <tr>\n",
       "      <th>goals</th>\n",
       "      <th></th>\n",
       "      <th></th>\n",
       "      <th></th>\n",
       "      <th></th>\n",
       "      <th></th>\n",
       "      <th></th>\n",
       "      <th></th>\n",
       "      <th></th>\n",
       "      <th></th>\n",
       "      <th></th>\n",
       "      <th></th>\n",
       "      <th></th>\n",
       "    </tr>\n",
       "  </thead>\n",
       "  <tbody>\n",
       "    <tr>\n",
       "      <th>0.0</th>\n",
       "      <td>2.010434e+09</td>\n",
       "      <td>16.987865</td>\n",
       "      <td>27.691708</td>\n",
       "      <td>21.739566</td>\n",
       "      <td>12.552153</td>\n",
       "      <td>3.445536</td>\n",
       "      <td>0.000000</td>\n",
       "      <td>49.163150</td>\n",
       "      <td>8.582336</td>\n",
       "      <td>5.827564</td>\n",
       "      <td>12.000000</td>\n",
       "      <td>0.014158</td>\n",
       "    </tr>\n",
       "    <tr>\n",
       "      <th>1.0</th>\n",
       "      <td>2.010596e+09</td>\n",
       "      <td>16.892099</td>\n",
       "      <td>28.877653</td>\n",
       "      <td>21.719287</td>\n",
       "      <td>11.584843</td>\n",
       "      <td>3.535393</td>\n",
       "      <td>0.266474</td>\n",
       "      <td>49.801727</td>\n",
       "      <td>8.813022</td>\n",
       "      <td>6.337592</td>\n",
       "      <td>12.561916</td>\n",
       "      <td>0.117569</td>\n",
       "    </tr>\n",
       "    <tr>\n",
       "      <th>2.0</th>\n",
       "      <td>2.010567e+09</td>\n",
       "      <td>17.077462</td>\n",
       "      <td>29.700904</td>\n",
       "      <td>21.434048</td>\n",
       "      <td>11.389672</td>\n",
       "      <td>3.612365</td>\n",
       "      <td>0.508349</td>\n",
       "      <td>49.825515</td>\n",
       "      <td>8.790977</td>\n",
       "      <td>6.558177</td>\n",
       "      <td>13.097279</td>\n",
       "      <td>0.303820</td>\n",
       "    </tr>\n",
       "    <tr>\n",
       "      <th>3.0</th>\n",
       "      <td>2.010742e+09</td>\n",
       "      <td>16.724111</td>\n",
       "      <td>30.118566</td>\n",
       "      <td>21.127722</td>\n",
       "      <td>11.253289</td>\n",
       "      <td>3.680939</td>\n",
       "      <td>0.733734</td>\n",
       "      <td>50.120601</td>\n",
       "      <td>8.895315</td>\n",
       "      <td>6.872376</td>\n",
       "      <td>13.672240</td>\n",
       "      <td>0.573320</td>\n",
       "    </tr>\n",
       "    <tr>\n",
       "      <th>4.0</th>\n",
       "      <td>2.010988e+09</td>\n",
       "      <td>16.879592</td>\n",
       "      <td>30.428823</td>\n",
       "      <td>21.046995</td>\n",
       "      <td>11.685366</td>\n",
       "      <td>3.756015</td>\n",
       "      <td>0.921371</td>\n",
       "      <td>50.100239</td>\n",
       "      <td>8.811633</td>\n",
       "      <td>7.044171</td>\n",
       "      <td>13.917951</td>\n",
       "      <td>0.798263</td>\n",
       "    </tr>\n",
       "    <tr>\n",
       "      <th>5.0</th>\n",
       "      <td>2.011196e+09</td>\n",
       "      <td>16.962902</td>\n",
       "      <td>31.091412</td>\n",
       "      <td>20.182084</td>\n",
       "      <td>12.298217</td>\n",
       "      <td>3.896700</td>\n",
       "      <td>1.130560</td>\n",
       "      <td>50.265117</td>\n",
       "      <td>8.941706</td>\n",
       "      <td>7.357866</td>\n",
       "      <td>14.056043</td>\n",
       "      <td>0.915556</td>\n",
       "    </tr>\n",
       "    <tr>\n",
       "      <th>6.0</th>\n",
       "      <td>2.011026e+09</td>\n",
       "      <td>16.205091</td>\n",
       "      <td>32.000480</td>\n",
       "      <td>19.583377</td>\n",
       "      <td>13.474544</td>\n",
       "      <td>4.235351</td>\n",
       "      <td>1.434198</td>\n",
       "      <td>50.366862</td>\n",
       "      <td>9.025410</td>\n",
       "      <td>7.408152</td>\n",
       "      <td>13.848068</td>\n",
       "      <td>0.966378</td>\n",
       "    </tr>\n",
       "    <tr>\n",
       "      <th>7.0</th>\n",
       "      <td>2.011734e+09</td>\n",
       "      <td>16.629482</td>\n",
       "      <td>33.188579</td>\n",
       "      <td>19.047143</td>\n",
       "      <td>13.997344</td>\n",
       "      <td>4.317397</td>\n",
       "      <td>1.614874</td>\n",
       "      <td>50.832627</td>\n",
       "      <td>8.914286</td>\n",
       "      <td>7.391429</td>\n",
       "      <td>13.327143</td>\n",
       "      <td>0.994688</td>\n",
       "    </tr>\n",
       "    <tr>\n",
       "      <th>8.0</th>\n",
       "      <td>2.010857e+09</td>\n",
       "      <td>14.866667</td>\n",
       "      <td>33.364444</td>\n",
       "      <td>18.923077</td>\n",
       "      <td>16.822222</td>\n",
       "      <td>4.506667</td>\n",
       "      <td>1.844444</td>\n",
       "      <td>50.279167</td>\n",
       "      <td>9.201923</td>\n",
       "      <td>7.365385</td>\n",
       "      <td>13.927885</td>\n",
       "      <td>0.995556</td>\n",
       "    </tr>\n",
       "    <tr>\n",
       "      <th>9.0</th>\n",
       "      <td>2.011142e+09</td>\n",
       "      <td>19.465517</td>\n",
       "      <td>36.258621</td>\n",
       "      <td>15.875000</td>\n",
       "      <td>18.327586</td>\n",
       "      <td>5.517241</td>\n",
       "      <td>2.551724</td>\n",
       "      <td>50.096875</td>\n",
       "      <td>8.214286</td>\n",
       "      <td>7.535714</td>\n",
       "      <td>13.000000</td>\n",
       "      <td>1.000000</td>\n",
       "    </tr>\n",
       "    <tr>\n",
       "      <th>10.0</th>\n",
       "      <td>2.011581e+09</td>\n",
       "      <td>30.500000</td>\n",
       "      <td>35.333333</td>\n",
       "      <td>13.294118</td>\n",
       "      <td>13.277778</td>\n",
       "      <td>4.444444</td>\n",
       "      <td>1.944444</td>\n",
       "      <td>48.180000</td>\n",
       "      <td>8.235294</td>\n",
       "      <td>5.882353</td>\n",
       "      <td>9.764706</td>\n",
       "      <td>1.000000</td>\n",
       "    </tr>\n",
       "    <tr>\n",
       "      <th>11.0</th>\n",
       "      <td>2.001020e+09</td>\n",
       "      <td>9.000000</td>\n",
       "      <td>34.000000</td>\n",
       "      <td>NaN</td>\n",
       "      <td>30.000000</td>\n",
       "      <td>2.000000</td>\n",
       "      <td>1.000000</td>\n",
       "      <td>NaN</td>\n",
       "      <td>NaN</td>\n",
       "      <td>NaN</td>\n",
       "      <td>NaN</td>\n",
       "      <td>1.000000</td>\n",
       "    </tr>\n",
       "    <tr>\n",
       "      <th>12.0</th>\n",
       "      <td>2.002021e+09</td>\n",
       "      <td>15.000000</td>\n",
       "      <td>40.000000</td>\n",
       "      <td>3.000000</td>\n",
       "      <td>51.000000</td>\n",
       "      <td>4.000000</td>\n",
       "      <td>3.000000</td>\n",
       "      <td>NaN</td>\n",
       "      <td>0.000000</td>\n",
       "      <td>0.000000</td>\n",
       "      <td>0.000000</td>\n",
       "      <td>1.000000</td>\n",
       "    </tr>\n",
       "  </tbody>\n",
       "</table>\n",
       "</div>"
      ],
      "text/plain": [
       "            game_id    team_id      shots       hits        pim  \\\n",
       "goals                                                             \n",
       "0.0    2.010434e+09  16.987865  27.691708  21.739566  12.552153   \n",
       "1.0    2.010596e+09  16.892099  28.877653  21.719287  11.584843   \n",
       "2.0    2.010567e+09  17.077462  29.700904  21.434048  11.389672   \n",
       "3.0    2.010742e+09  16.724111  30.118566  21.127722  11.253289   \n",
       "4.0    2.010988e+09  16.879592  30.428823  21.046995  11.685366   \n",
       "5.0    2.011196e+09  16.962902  31.091412  20.182084  12.298217   \n",
       "6.0    2.011026e+09  16.205091  32.000480  19.583377  13.474544   \n",
       "7.0    2.011734e+09  16.629482  33.188579  19.047143  13.997344   \n",
       "8.0    2.010857e+09  14.866667  33.364444  18.923077  16.822222   \n",
       "9.0    2.011142e+09  19.465517  36.258621  15.875000  18.327586   \n",
       "10.0   2.011581e+09  30.500000  35.333333  13.294118  13.277778   \n",
       "11.0   2.001020e+09   9.000000  34.000000        NaN  30.000000   \n",
       "12.0   2.002021e+09  15.000000  40.000000   3.000000  51.000000   \n",
       "\n",
       "       powerPlayOpportunities  powerPlayGoals  faceOffWinPercentage  \\\n",
       "goals                                                                 \n",
       "0.0                  3.445536        0.000000             49.163150   \n",
       "1.0                  3.535393        0.266474             49.801727   \n",
       "2.0                  3.612365        0.508349             49.825515   \n",
       "3.0                  3.680939        0.733734             50.120601   \n",
       "4.0                  3.756015        0.921371             50.100239   \n",
       "5.0                  3.896700        1.130560             50.265117   \n",
       "6.0                  4.235351        1.434198             50.366862   \n",
       "7.0                  4.317397        1.614874             50.832627   \n",
       "8.0                  4.506667        1.844444             50.279167   \n",
       "9.0                  5.517241        2.551724             50.096875   \n",
       "10.0                 4.444444        1.944444             48.180000   \n",
       "11.0                 2.000000        1.000000                   NaN   \n",
       "12.0                 4.000000        3.000000                   NaN   \n",
       "\n",
       "       giveaways  takeaways    blocked       won  \n",
       "goals                                             \n",
       "0.0     8.582336   5.827564  12.000000  0.014158  \n",
       "1.0     8.813022   6.337592  12.561916  0.117569  \n",
       "2.0     8.790977   6.558177  13.097279  0.303820  \n",
       "3.0     8.895315   6.872376  13.672240  0.573320  \n",
       "4.0     8.811633   7.044171  13.917951  0.798263  \n",
       "5.0     8.941706   7.357866  14.056043  0.915556  \n",
       "6.0     9.025410   7.408152  13.848068  0.966378  \n",
       "7.0     8.914286   7.391429  13.327143  0.994688  \n",
       "8.0     9.201923   7.365385  13.927885  0.995556  \n",
       "9.0     8.214286   7.535714  13.000000  1.000000  \n",
       "10.0    8.235294   5.882353   9.764706  1.000000  \n",
       "11.0         NaN        NaN        NaN  1.000000  \n",
       "12.0    0.000000   0.000000   0.000000  1.000000  "
      ]
     },
     "execution_count": 9,
     "metadata": {},
     "output_type": "execute_result"
    }
   ],
   "source": [
    "df.groupby('goals').mean()"
   ]
  },
  {
   "cell_type": "markdown",
   "id": "6aee1745",
   "metadata": {},
   "source": [
    "## Treating Null Values"
   ]
  },
  {
   "cell_type": "code",
   "execution_count": 10,
   "id": "b3bca3ef",
   "metadata": {},
   "outputs": [],
   "source": [
    "df['head_coach']=df['head_coach'].ffill()\n",
    "df['goals']=df['goals'].fillna(df['goals'].mode()[0])\n",
    "df['shots']=df['shots'].fillna(df['shots'].mode()[0])\n",
    "df['hits']=df['hits'].fillna(df['hits'].mode()[0])\n",
    "df['pim']=df['pim'].fillna(df['pim'].mode()[0])\n",
    "df['powerPlayOpportunities']=df['powerPlayOpportunities'].fillna(df['powerPlayOpportunities'].mode()[0])\n",
    "df['powerPlayGoals']=df['powerPlayGoals'].fillna(df['powerPlayGoals'].mode()[0])\n",
    "df['faceOffWinPercentage']=df['faceOffWinPercentage'].fillna(df['faceOffWinPercentage'].mode()[0])\n",
    "df['giveaways']=df['giveaways'].fillna(df['giveaways'].mode()[0])\n",
    "df['takeaways']=df['takeaways'].fillna(df['takeaways'].mode()[0])\n",
    "df['blocked']=df['blocked'].fillna(df['blocked'].mode()[0])\n",
    "df['startRinkSide']=df['startRinkSide'].fillna(df['startRinkSide'].mode()[0])"
   ]
  },
  {
   "cell_type": "markdown",
   "id": "a6f4af4f",
   "metadata": {},
   "source": [
    "## Checking Null Values"
   ]
  },
  {
   "cell_type": "code",
   "execution_count": 11,
   "id": "09b0b7db",
   "metadata": {},
   "outputs": [
    {
     "name": "stdout",
     "output_type": "stream",
     "text": [
      "game_id                   0\n",
      "team_id                   0\n",
      "HoA                       0\n",
      "settled_in                0\n",
      "head_coach                0\n",
      "shots                     0\n",
      "hits                      0\n",
      "pim                       0\n",
      "powerPlayOpportunities    0\n",
      "powerPlayGoals            0\n",
      "faceOffWinPercentage      0\n",
      "giveaways                 0\n",
      "takeaways                 0\n",
      "blocked                   0\n",
      "startRinkSide             0\n",
      "goals                     0\n",
      "won                       0\n",
      "dtype: int64\n"
     ]
    }
   ],
   "source": [
    "print(df.isna().sum())"
   ]
  },
  {
   "cell_type": "markdown",
   "id": "5c37cd1f",
   "metadata": {},
   "source": [
    "## Performing Exploratory Data Analysis"
   ]
  },
  {
   "cell_type": "markdown",
   "id": "99395705",
   "metadata": {},
   "source": [
    "### Checking For Outlier in dataset"
   ]
  },
  {
   "cell_type": "code",
   "execution_count": 12,
   "id": "8803b831",
   "metadata": {},
   "outputs": [
    {
     "data": {
      "text/html": [
       "<div>\n",
       "<style scoped>\n",
       "    .dataframe tbody tr th:only-of-type {\n",
       "        vertical-align: middle;\n",
       "    }\n",
       "\n",
       "    .dataframe tbody tr th {\n",
       "        vertical-align: top;\n",
       "    }\n",
       "\n",
       "    .dataframe thead th {\n",
       "        text-align: right;\n",
       "    }\n",
       "</style>\n",
       "<table border=\"1\" class=\"dataframe\">\n",
       "  <thead>\n",
       "    <tr style=\"text-align: right;\">\n",
       "      <th></th>\n",
       "      <th>game_id</th>\n",
       "      <th>team_id</th>\n",
       "      <th>shots</th>\n",
       "      <th>hits</th>\n",
       "      <th>pim</th>\n",
       "      <th>powerPlayOpportunities</th>\n",
       "      <th>powerPlayGoals</th>\n",
       "      <th>faceOffWinPercentage</th>\n",
       "      <th>giveaways</th>\n",
       "      <th>takeaways</th>\n",
       "      <th>blocked</th>\n",
       "      <th>goals</th>\n",
       "    </tr>\n",
       "  </thead>\n",
       "  <tbody>\n",
       "    <tr>\n",
       "      <th>count</th>\n",
       "      <td>5.261000e+04</td>\n",
       "      <td>52610.000000</td>\n",
       "      <td>52610.000000</td>\n",
       "      <td>52610.000000</td>\n",
       "      <td>52610.000000</td>\n",
       "      <td>52610.000000</td>\n",
       "      <td>52610.000000</td>\n",
       "      <td>52610.000000</td>\n",
       "      <td>52610.000000</td>\n",
       "      <td>52610.000000</td>\n",
       "      <td>52610.000000</td>\n",
       "      <td>52610.000000</td>\n",
       "    </tr>\n",
       "    <tr>\n",
       "      <th>mean</th>\n",
       "      <td>2.010765e+09</td>\n",
       "      <td>16.880403</td>\n",
       "      <td>29.930450</td>\n",
       "      <td>20.740829</td>\n",
       "      <td>11.753963</td>\n",
       "      <td>3.693461</td>\n",
       "      <td>0.667573</td>\n",
       "      <td>49.980996</td>\n",
       "      <td>8.661281</td>\n",
       "      <td>6.581581</td>\n",
       "      <td>13.287626</td>\n",
       "      <td>2.781163</td>\n",
       "    </tr>\n",
       "    <tr>\n",
       "      <th>std</th>\n",
       "      <td>6.073510e+06</td>\n",
       "      <td>11.195171</td>\n",
       "      <td>6.895624</td>\n",
       "      <td>8.875906</td>\n",
       "      <td>9.029158</td>\n",
       "      <td>1.870483</td>\n",
       "      <td>0.813073</td>\n",
       "      <td>5.574808</td>\n",
       "      <td>5.242660</td>\n",
       "      <td>3.978244</td>\n",
       "      <td>5.314235</td>\n",
       "      <td>1.657159</td>\n",
       "    </tr>\n",
       "    <tr>\n",
       "      <th>min</th>\n",
       "      <td>2.000020e+09</td>\n",
       "      <td>1.000000</td>\n",
       "      <td>0.000000</td>\n",
       "      <td>0.000000</td>\n",
       "      <td>0.000000</td>\n",
       "      <td>0.000000</td>\n",
       "      <td>0.000000</td>\n",
       "      <td>0.000000</td>\n",
       "      <td>0.000000</td>\n",
       "      <td>0.000000</td>\n",
       "      <td>0.000000</td>\n",
       "      <td>0.000000</td>\n",
       "    </tr>\n",
       "    <tr>\n",
       "      <th>5%</th>\n",
       "      <td>2.001020e+09</td>\n",
       "      <td>2.000000</td>\n",
       "      <td>19.000000</td>\n",
       "      <td>8.000000</td>\n",
       "      <td>2.000000</td>\n",
       "      <td>1.000000</td>\n",
       "      <td>0.000000</td>\n",
       "      <td>40.000000</td>\n",
       "      <td>1.000000</td>\n",
       "      <td>1.000000</td>\n",
       "      <td>5.000000</td>\n",
       "      <td>0.000000</td>\n",
       "    </tr>\n",
       "    <tr>\n",
       "      <th>50%</th>\n",
       "      <td>2.011021e+09</td>\n",
       "      <td>16.000000</td>\n",
       "      <td>30.000000</td>\n",
       "      <td>19.000000</td>\n",
       "      <td>10.000000</td>\n",
       "      <td>3.000000</td>\n",
       "      <td>0.000000</td>\n",
       "      <td>50.000000</td>\n",
       "      <td>8.000000</td>\n",
       "      <td>6.000000</td>\n",
       "      <td>13.000000</td>\n",
       "      <td>3.000000</td>\n",
       "    </tr>\n",
       "    <tr>\n",
       "      <th>99.7%</th>\n",
       "      <td>2.019030e+09</td>\n",
       "      <td>54.000000</td>\n",
       "      <td>52.000000</td>\n",
       "      <td>53.000000</td>\n",
       "      <td>63.000000</td>\n",
       "      <td>10.000000</td>\n",
       "      <td>4.000000</td>\n",
       "      <td>68.400000</td>\n",
       "      <td>29.000000</td>\n",
       "      <td>23.000000</td>\n",
       "      <td>30.000000</td>\n",
       "      <td>8.000000</td>\n",
       "    </tr>\n",
       "    <tr>\n",
       "      <th>max</th>\n",
       "      <td>2.019041e+09</td>\n",
       "      <td>90.000000</td>\n",
       "      <td>88.000000</td>\n",
       "      <td>80.000000</td>\n",
       "      <td>213.000000</td>\n",
       "      <td>16.000000</td>\n",
       "      <td>7.000000</td>\n",
       "      <td>79.200000</td>\n",
       "      <td>52.000000</td>\n",
       "      <td>40.000000</td>\n",
       "      <td>62.000000</td>\n",
       "      <td>12.000000</td>\n",
       "    </tr>\n",
       "  </tbody>\n",
       "</table>\n",
       "</div>"
      ],
      "text/plain": [
       "            game_id       team_id         shots          hits           pim  \\\n",
       "count  5.261000e+04  52610.000000  52610.000000  52610.000000  52610.000000   \n",
       "mean   2.010765e+09     16.880403     29.930450     20.740829     11.753963   \n",
       "std    6.073510e+06     11.195171      6.895624      8.875906      9.029158   \n",
       "min    2.000020e+09      1.000000      0.000000      0.000000      0.000000   \n",
       "5%     2.001020e+09      2.000000     19.000000      8.000000      2.000000   \n",
       "50%    2.011021e+09     16.000000     30.000000     19.000000     10.000000   \n",
       "99.7%  2.019030e+09     54.000000     52.000000     53.000000     63.000000   \n",
       "max    2.019041e+09     90.000000     88.000000     80.000000    213.000000   \n",
       "\n",
       "       powerPlayOpportunities  powerPlayGoals  faceOffWinPercentage  \\\n",
       "count            52610.000000    52610.000000          52610.000000   \n",
       "mean                 3.693461        0.667573             49.980996   \n",
       "std                  1.870483        0.813073              5.574808   \n",
       "min                  0.000000        0.000000              0.000000   \n",
       "5%                   1.000000        0.000000             40.000000   \n",
       "50%                  3.000000        0.000000             50.000000   \n",
       "99.7%               10.000000        4.000000             68.400000   \n",
       "max                 16.000000        7.000000             79.200000   \n",
       "\n",
       "          giveaways     takeaways       blocked         goals  \n",
       "count  52610.000000  52610.000000  52610.000000  52610.000000  \n",
       "mean       8.661281      6.581581     13.287626      2.781163  \n",
       "std        5.242660      3.978244      5.314235      1.657159  \n",
       "min        0.000000      0.000000      0.000000      0.000000  \n",
       "5%         1.000000      1.000000      5.000000      0.000000  \n",
       "50%        8.000000      6.000000     13.000000      3.000000  \n",
       "99.7%     29.000000     23.000000     30.000000      8.000000  \n",
       "max       52.000000     40.000000     62.000000     12.000000  "
      ]
     },
     "execution_count": 12,
     "metadata": {},
     "output_type": "execute_result"
    }
   ],
   "source": [
    "df.describe(percentiles=[0.05,0.5,0.997])"
   ]
  },
  {
   "cell_type": "code",
   "execution_count": 13,
   "id": "8844a72d",
   "metadata": {},
   "outputs": [
    {
     "data": {
      "text/plain": [
       "Index(['game_id', 'team_id', 'HoA', 'settled_in', 'head_coach', 'shots',\n",
       "       'hits', 'pim', 'powerPlayOpportunities', 'powerPlayGoals',\n",
       "       'faceOffWinPercentage', 'giveaways', 'takeaways', 'blocked',\n",
       "       'startRinkSide', 'goals', 'won'],\n",
       "      dtype='object')"
      ]
     },
     "execution_count": 13,
     "metadata": {},
     "output_type": "execute_result"
    }
   ],
   "source": [
    "df.columns"
   ]
  },
  {
   "cell_type": "markdown",
   "id": "d6a0a030",
   "metadata": {},
   "source": [
    "## Treating the Outliers"
   ]
  },
  {
   "cell_type": "code",
   "execution_count": 14,
   "id": "b3723811",
   "metadata": {},
   "outputs": [],
   "source": [
    "Q1_goals = df.goals.quantile(0.25)\n",
    "Q3_goals = df.goals.quantile(0.75)\n",
    "IQR_goals = Q3_goals-Q1_goals\n",
    "\n",
    "lower_limit_goals = Q1_goals-1.5*IQR_goals\n",
    "upper_limit_goals = Q3_goals+1.5*IQR_goals\n",
    "\n",
    "a_goals = df['goals'].median()\n",
    "\n",
    "for x in ['goals']:\n",
    "    q75,q25 = np.percentile(df.loc[:,x],[75,25])\n",
    "    intr_qr = q75-q25\n",
    "\n",
    "    max = q75+(1.5*intr_qr)\n",
    "    min = q25-(1.5*intr_qr)\n",
    "\n",
    "    df.loc[df[x] < min,x] = a_goals\n",
    "    df.loc[df[x] > max,x] = a_goals"
   ]
  },
  {
   "cell_type": "code",
   "execution_count": 15,
   "id": "237fe891",
   "metadata": {},
   "outputs": [],
   "source": [
    "Q1_shots = df.shots.quantile(0.25)\n",
    "Q3_shots = df.shots.quantile(0.75)\n",
    "IQR_shots = Q3_shots-Q1_shots\n",
    "\n",
    "lower_limit_shots = Q1_shots-1.5*IQR_shots\n",
    "upper_limit_shots = Q3_shots+1.5*IQR_shots\n",
    "\n",
    "a_shots = df['shots'].median()\n",
    "\n",
    "for x in ['shots']:\n",
    "    q75,q25 = np.percentile(df.loc[:,x],[75,25])\n",
    "    intr_qr = q75-q25\n",
    "\n",
    "    max = q75+(1.5*intr_qr)\n",
    "    min = q25-(1.5*intr_qr)\n",
    "\n",
    "    df.loc[df[x] < min,x] = a_shots\n",
    "    df.loc[df[x] > max,x] = a_shots"
   ]
  },
  {
   "cell_type": "code",
   "execution_count": 16,
   "id": "fabaf7b5",
   "metadata": {},
   "outputs": [],
   "source": [
    "Q1_hits = df.hits.quantile(0.25)\n",
    "Q3_hits = df.hits.quantile(0.75)\n",
    "IQR_hits = Q3_hits-Q1_hits\n",
    "\n",
    "lower_limit_hits = Q1_hits-1.5*IQR_hits\n",
    "upper_limit_hits = Q3_hits+1.5*IQR_hits\n",
    "\n",
    "a_hits = df['hits'].median()\n",
    "\n",
    "for x in ['hits']:\n",
    "    q75,q25 = np.percentile(df.loc[:,x],[75,25])\n",
    "    intr_qr = q75-q25\n",
    "\n",
    "    max = q75+(1.5*intr_qr)\n",
    "    min = q25-(1.5*intr_qr)\n",
    "\n",
    "    df.loc[df[x] < min,x] = a_hits\n",
    "    df.loc[df[x] > max,x] = a_hits"
   ]
  },
  {
   "cell_type": "code",
   "execution_count": 17,
   "id": "a0ea4f01",
   "metadata": {},
   "outputs": [],
   "source": [
    "Q1_pim = df.pim.quantile(0.25)\n",
    "Q3_pim = df.pim.quantile(0.75)\n",
    "IQR_pim = Q3_pim-Q1_pim\n",
    "\n",
    "lower_limit_pim = Q1_pim-1.5*IQR_pim\n",
    "upper_limit_pim = Q3_pim+1.5*IQR_pim\n",
    "\n",
    "a_pim = df['pim'].median()\n",
    "\n",
    "for x in ['pim']:\n",
    "    q75,q25 = np.percentile(df.loc[:,x],[75,25])\n",
    "    intr_qr = q75-q25\n",
    "\n",
    "    max = q75+(1.5*intr_qr)\n",
    "    min = q25-(1.5*intr_qr)\n",
    "\n",
    "    df.loc[df[x] < min,x] = a_pim\n",
    "    df.loc[df[x] > max,x] = a_pim  "
   ]
  },
  {
   "cell_type": "code",
   "execution_count": 18,
   "id": "8da4c74f",
   "metadata": {},
   "outputs": [],
   "source": [
    "Q1_powerPlayOpportunities = df.powerPlayOpportunities.quantile(0.25)\n",
    "Q3_powerPlayOpportunities = df.powerPlayOpportunities.quantile(0.75)\n",
    "IQR_powerPlayOpportunities = Q3_powerPlayOpportunities-Q1_powerPlayOpportunities\n",
    "\n",
    "lower_limit_powerPlayOpportunities = Q1_powerPlayOpportunities-1.5*IQR_powerPlayOpportunities\n",
    "upper_limit_powerPlayOpportunities = Q3_powerPlayOpportunities+1.5*IQR_powerPlayOpportunities\n",
    "\n",
    "a_powerPlayOpportunities = df['powerPlayOpportunities'].median()\n",
    "\n",
    "for x in ['powerPlayOpportunities']:\n",
    "    q75,q25 = np.percentile(df.loc[:,x],[75,25])\n",
    "    intr_qr = q75-q25\n",
    "\n",
    "    max = q75+(1.5*intr_qr)\n",
    "    min = q25-(1.5*intr_qr)\n",
    "\n",
    "    df.loc[df[x] < min,x] = a_powerPlayOpportunities\n",
    "    df.loc[df[x] > max,x] = a_powerPlayOpportunities"
   ]
  },
  {
   "cell_type": "code",
   "execution_count": 19,
   "id": "456b0d06",
   "metadata": {},
   "outputs": [],
   "source": [
    "Q1_powerPlayGoals = df.powerPlayGoals.quantile(0.25)\n",
    "Q3_powerPlayGoals = df.powerPlayGoals.quantile(0.75)\n",
    "IQR_powerPlayGoals = Q3_powerPlayGoals-Q1_powerPlayGoals\n",
    "\n",
    "lower_limit_powerPlayGoals = Q1_powerPlayGoals-1.5*IQR_powerPlayGoals\n",
    "upper_limit_powerPlayGoals = Q3_powerPlayGoals+1.5*IQR_powerPlayGoals\n",
    "\n",
    "a_powerPlayGoals = df['powerPlayGoals'].median()\n",
    "\n",
    "for x in ['powerPlayGoals']:\n",
    "    q75,q25 = np.percentile(df.loc[:,x],[75,25])\n",
    "    intr_qr = q75-q25\n",
    "\n",
    "    max = q75+(1.5*intr_qr)\n",
    "    min = q25-(1.5*intr_qr)\n",
    "\n",
    "    df.loc[df[x] < min,x] = a_powerPlayGoals\n",
    "    df.loc[df[x] > max,x] = a_powerPlayGoals"
   ]
  },
  {
   "cell_type": "code",
   "execution_count": 20,
   "id": "78721c7f",
   "metadata": {},
   "outputs": [],
   "source": [
    "Q1_faceOffWinPercentage = df.faceOffWinPercentage.quantile(0.25)\n",
    "Q3_faceOffWinPercentage = df.faceOffWinPercentage.quantile(0.75)\n",
    "IQR_faceOffWinPercentage = Q3_faceOffWinPercentage-Q1_faceOffWinPercentage\n",
    "\n",
    "lower_limit_faceOffWinPercentage = Q1_faceOffWinPercentage-1.5*IQR_faceOffWinPercentage\n",
    "upper_limit_faceOffWinPercentage = Q3_faceOffWinPercentage+1.5*IQR_faceOffWinPercentage\n",
    "\n",
    "a_faceOffWinPercentage = df['faceOffWinPercentage'].median()\n",
    "\n",
    "for x in ['faceOffWinPercentage']:\n",
    "    q75,q25 = np.percentile(df.loc[:,x],[75,25])\n",
    "    intr_qr = q75-q25\n",
    "\n",
    "    max = q75+(1.5*intr_qr)\n",
    "    min = q25-(1.5*intr_qr)\n",
    "\n",
    "    df.loc[df[x] < min,x] = a_faceOffWinPercentage\n",
    "    df.loc[df[x] > max,x] = a_faceOffWinPercentage"
   ]
  },
  {
   "cell_type": "code",
   "execution_count": 21,
   "id": "f114f706",
   "metadata": {},
   "outputs": [],
   "source": [
    "Q1_giveaways = df.giveaways.quantile(0.25)\n",
    "Q3_giveaways = df.giveaways.quantile(0.75)\n",
    "IQR_giveaways = Q3_giveaways-Q1_giveaways\n",
    "\n",
    "lower_limit_giveaways = Q1_giveaways-1.5*IQR_giveaways\n",
    "upper_limit_giveaways = Q3_giveaways+1.5*IQR_giveaways\n",
    "\n",
    "a_giveaways = df['giveaways'].median()\n",
    "\n",
    "for x in ['giveaways']:\n",
    "    q75,q25 = np.percentile(df.loc[:,x],[75,25])\n",
    "    intr_qr = q75-q25\n",
    "\n",
    "    max = q75+(1.5*intr_qr)\n",
    "    min = q25-(1.5*intr_qr)\n",
    "\n",
    "    df.loc[df[x] < min,x] = a_giveaways\n",
    "    df.loc[df[x] > max,x] = a_giveaways"
   ]
  },
  {
   "cell_type": "code",
   "execution_count": 22,
   "id": "34c73009",
   "metadata": {},
   "outputs": [],
   "source": [
    "Q1_takeaways = df.takeaways.quantile(0.25)\n",
    "Q3_takeaways = df.takeaways.quantile(0.75)\n",
    "IQR_takeaways = Q3_takeaways-Q1_takeaways\n",
    "\n",
    "lower_limit_takeaways = Q1_takeaways-1.5*IQR_takeaways\n",
    "upper_limit_takeaways = Q3_takeaways+1.5*IQR_takeaways\n",
    "\n",
    "a_takeaways = df['takeaways'].median()\n",
    "\n",
    "for x in ['takeaways']:\n",
    "    q75,q25 = np.percentile(df.loc[:,x],[75,25])\n",
    "    intr_qr = q75-q25\n",
    "\n",
    "    max = q75+(1.5*intr_qr)\n",
    "    min = q25-(1.5*intr_qr)\n",
    "\n",
    "    df.loc[df[x] < min,x] = a_takeaways\n",
    "    df.loc[df[x] > max,x] = a_takeaways"
   ]
  },
  {
   "cell_type": "code",
   "execution_count": 23,
   "id": "1c6ab15c",
   "metadata": {},
   "outputs": [],
   "source": [
    "Q1_blocked = df.blocked.quantile(0.25)\n",
    "Q3_blocked = df.blocked.quantile(0.75)\n",
    "IQR_blocked = Q3_blocked-Q1_blocked\n",
    "\n",
    "lower_limit_blocked = Q1_blocked-1.5*IQR_blocked\n",
    "upper_limit_blocked = Q3_blocked+1.5*IQR_blocked\n",
    "\n",
    "a_blocked = df['blocked'].median()\n",
    "\n",
    "for x in ['blocked']:\n",
    "    q75,q25 = np.percentile(df.loc[:,x],[75,25])\n",
    "    intr_qr = q75-q25\n",
    "\n",
    "    max = q75+(1.5*intr_qr)\n",
    "    min = q25-(1.5*intr_qr)\n",
    "\n",
    "    df.loc[df[x] < min,x] = a_blocked\n",
    "    df.loc[df[x] > max,x] = a_blocked"
   ]
  },
  {
   "cell_type": "markdown",
   "id": "fc6b4c01",
   "metadata": {},
   "source": [
    "## Data Analysis"
   ]
  },
  {
   "cell_type": "markdown",
   "id": "2334bb94",
   "metadata": {},
   "source": [
    "### Countplot:"
   ]
  },
  {
   "cell_type": "code",
   "execution_count": 24,
   "id": "cde1f958",
   "metadata": {},
   "outputs": [
    {
     "data": {
      "image/png": "[encoded data removed]",
      "text/plain": [
       "<Figure size 432x288 with 1 Axes>"
      ]
     },
     "metadata": {
      "needs_background": "light"
     },
     "output_type": "display_data"
    }
   ],
   "source": [
    "sns.countplot(df['goals'])\n",
    "plt.show()"
   ]
  },
  {
   "cell_type": "code",
   "execution_count": 25,
   "id": "ec88a3cb",
   "metadata": {},
   "outputs": [
    {
     "data": {
      "image/png": "[encoded data removed]",
      "text/plain": [
       "<Figure size 432x288 with 1 Axes>"
      ]
     },
     "metadata": {
      "needs_background": "light"
     },
     "output_type": "display_data"
    }
   ],
   "source": [
    "sns.countplot(df['shots'])\n",
    "plt.show()"
   ]
  },
  {
   "cell_type": "code",
   "execution_count": 26,
   "id": "4f43ea5f",
   "metadata": {},
   "outputs": [
    {
     "data": {
      "image/png": "[encoded data removed]",
      "text/plain": [
       "<Figure size 432x288 with 1 Axes>"
      ]
     },
     "metadata": {
      "needs_background": "light"
     },
     "output_type": "display_data"
    }
   ],
   "source": [
    "sns.countplot(df['hits'])\n",
    "plt.show()"
   ]
  },
  {
   "cell_type": "code",
   "execution_count": 27,
   "id": "16f6e1c9",
   "metadata": {},
   "outputs": [
    {
     "data": {
      "image/png": "[encoded data removed]",
      "text/plain": [
       "<Figure size 432x288 with 1 Axes>"
      ]
     },
     "metadata": {
      "needs_background": "light"
     },
     "output_type": "display_data"
    }
   ],
   "source": [
    "sns.countplot(df['powerPlayOpportunities'])\n",
    "plt.show()"
   ]
  },
  {
   "cell_type": "code",
   "execution_count": 28,
   "id": "292b31ae",
   "metadata": {},
   "outputs": [
    {
     "data": {
      "image/png": "[encoded data removed]",
      "text/plain": [
       "<Figure size 432x288 with 1 Axes>"
      ]
     },
     "metadata": {
      "needs_background": "light"
     },
     "output_type": "display_data"
    }
   ],
   "source": [
    "sns.countplot(df['powerPlayGoals'])\n",
    "plt.show()"
   ]
  },
  {
   "cell_type": "code",
   "execution_count": 29,
   "id": "40f1171b",
   "metadata": {},
   "outputs": [
    {
     "data": {
      "image/png": "[encoded data removed]",
      "text/plain": [
       "<Figure size 432x288 with 1 Axes>"
      ]
     },
     "metadata": {
      "needs_background": "light"
     },
     "output_type": "display_data"
    }
   ],
   "source": [
    "sns.countplot(df['faceOffWinPercentage'])\n",
    "plt.show()"
   ]
  },
  {
   "cell_type": "code",
   "execution_count": 30,
   "id": "3487276a",
   "metadata": {},
   "outputs": [
    {
     "data": {
      "image/png": "[encoded data removed]",
      "text/plain": [
       "<Figure size 432x288 with 1 Axes>"
      ]
     },
     "metadata": {
      "needs_background": "light"
     },
     "output_type": "display_data"
    }
   ],
   "source": [
    "sns.countplot(df['blocked'])\n",
    "plt.show()"
   ]
  },
  {
   "cell_type": "code",
   "execution_count": 31,
   "id": "1ec76712",
   "metadata": {},
   "outputs": [
    {
     "data": {
      "image/png": "[encoded data removed]",
      "text/plain": [
       "<Figure size 432x288 with 1 Axes>"
      ]
     },
     "metadata": {
      "needs_background": "light"
     },
     "output_type": "display_data"
    }
   ],
   "source": [
    "sns.countplot(df['giveaways'])\n",
    "plt.show()"
   ]
  },
  {
   "cell_type": "code",
   "execution_count": 32,
   "id": "e0542364",
   "metadata": {},
   "outputs": [
    {
     "data": {
      "image/png": "[encoded data removed]",
      "text/plain": [
       "<Figure size 432x288 with 1 Axes>"
      ]
     },
     "metadata": {
      "needs_background": "light"
     },
     "output_type": "display_data"
    }
   ],
   "source": [
    "sns.countplot(df['takeaways'])\n",
    "plt.show()"
   ]
  },
  {
   "cell_type": "code",
   "execution_count": 33,
   "id": "26d10816",
   "metadata": {},
   "outputs": [
    {
     "data": {
      "image/png": "[encoded data removed]",
      "text/plain": [
       "<Figure size 432x288 with 1 Axes>"
      ]
     },
     "metadata": {
      "needs_background": "light"
     },
     "output_type": "display_data"
    }
   ],
   "source": [
    "sns.countplot(df['pim'])\n",
    "plt.show()"
   ]
  },
  {
   "cell_type": "markdown",
   "id": "0bcd2113",
   "metadata": {},
   "source": [
    "## KDE plot:"
   ]
  },
  {
   "cell_type": "code",
   "execution_count": 34,
   "id": "0f675ed7",
   "metadata": {},
   "outputs": [
    {
     "data": {
      "text/plain": [
       "<AxesSubplot:xlabel='goals', ylabel='Density'>"
      ]
     },
     "execution_count": 34,
     "metadata": {},
     "output_type": "execute_result"
    },
    {
     "data": {
      "image/png": "[encoded data removed]",
      "text/plain": [
       "<Figure size 432x288 with 1 Axes>"
      ]
     },
     "metadata": {
      "needs_background": "light"
     },
     "output_type": "display_data"
    }
   ],
   "source": [
    "sns.kdeplot(df.query('goals > 2').goals)"
   ]
  },
  {
   "cell_type": "markdown",
   "id": "bc0a3802",
   "metadata": {},
   "source": [
    "## Distplot:"
   ]
  },
  {
   "cell_type": "code",
   "execution_count": 35,
   "id": "f98ee0db",
   "metadata": {},
   "outputs": [
    {
     "data": {
      "text/plain": [
       "<AxesSubplot:xlabel='goals', ylabel='Density'>"
      ]
     },
     "execution_count": 35,
     "metadata": {},
     "output_type": "execute_result"
    },
    {
     "data": {
      "image/png": "[encoded data removed]",
      "text/plain": [
       "<Figure size 432x288 with 1 Axes>"
      ]
     },
     "metadata": {
      "needs_background": "light"
     },
     "output_type": "display_data"
    }
   ],
   "source": [
    "sns.distplot(df['goals'])"
   ]
  },
  {
   "cell_type": "code",
   "execution_count": 36,
   "id": "12d0a97d",
   "metadata": {},
   "outputs": [
    {
     "data": {
      "text/plain": [
       "game_id                       AxesSubplot(0.125,0.71587;0.168478x0.16413)\n",
       "team_id                    AxesSubplot(0.327174,0.71587;0.168478x0.16413)\n",
       "shots                      AxesSubplot(0.529348,0.71587;0.168478x0.16413)\n",
       "hits                       AxesSubplot(0.731522,0.71587;0.168478x0.16413)\n",
       "pim                          AxesSubplot(0.125,0.518913;0.168478x0.16413)\n",
       "powerPlayOpportunities    AxesSubplot(0.327174,0.518913;0.168478x0.16413)\n",
       "powerPlayGoals            AxesSubplot(0.529348,0.518913;0.168478x0.16413)\n",
       "faceOffWinPercentage      AxesSubplot(0.731522,0.518913;0.168478x0.16413)\n",
       "giveaways                    AxesSubplot(0.125,0.321957;0.168478x0.16413)\n",
       "takeaways                 AxesSubplot(0.327174,0.321957;0.168478x0.16413)\n",
       "blocked                   AxesSubplot(0.529348,0.321957;0.168478x0.16413)\n",
       "goals                     AxesSubplot(0.731522,0.321957;0.168478x0.16413)\n",
       "dtype: object"
      ]
     },
     "execution_count": 36,
     "metadata": {},
     "output_type": "execute_result"
    },
    {
     "data": {
      "image/png": "[encoded data removed]",
      "text/plain": [
       "<Figure size 432x288 with 16 Axes>"
      ]
     },
     "metadata": {
      "needs_background": "light"
     },
     "output_type": "display_data"
    }
   ],
   "source": [
    "df.plot(kind ='box',subplots = True, layout =(4,4),sharex = False)"
   ]
  },
  {
   "cell_type": "code",
   "execution_count": 37,
   "id": "175b00f6",
   "metadata": {},
   "outputs": [
    {
     "data": {
      "text/plain": [
       "array([[<AxesSubplot:ylabel='Density'>, <AxesSubplot:ylabel='Density'>,\n",
       "        <AxesSubplot:ylabel='Density'>, <AxesSubplot:ylabel='Density'>],\n",
       "       [<AxesSubplot:ylabel='Density'>, <AxesSubplot:ylabel='Density'>,\n",
       "        <AxesSubplot:ylabel='Density'>, <AxesSubplot:ylabel='Density'>],\n",
       "       [<AxesSubplot:ylabel='Density'>, <AxesSubplot:ylabel='Density'>,\n",
       "        <AxesSubplot:ylabel='Density'>, <AxesSubplot:ylabel='Density'>],\n",
       "       [<AxesSubplot:ylabel='Density'>, <AxesSubplot:ylabel='Density'>,\n",
       "        <AxesSubplot:ylabel='Density'>, <AxesSubplot:ylabel='Density'>]],\n",
       "      dtype=object)"
      ]
     },
     "execution_count": 37,
     "metadata": {},
     "output_type": "execute_result"
    },
    {
     "data": {
      "image/png": "[encoded data removed]",
      "text/plain": [
       "<Figure size 432x288 with 16 Axes>"
      ]
     },
     "metadata": {
      "needs_background": "light"
     },
     "output_type": "display_data"
    }
   ],
   "source": [
    "df.plot(kind ='density',subplots = True, layout =(4,4),sharex = False)"
   ]
  },
  {
   "cell_type": "markdown",
   "id": "fc9697e2",
   "metadata": {},
   "source": [
    "## Histogram"
   ]
  },
  {
   "cell_type": "code",
   "execution_count": 38,
   "id": "ad4d6c96",
   "metadata": {},
   "outputs": [
    {
     "data": {
      "image/png": "[encoded data removed]",
      "text/plain": [
       "<Figure size 720x720 with 12 Axes>"
      ]
     },
     "metadata": {
      "needs_background": "light"
     },
     "output_type": "display_data"
    }
   ],
   "source": [
    "df.hist(figsize=(10,10),bins=50)\n",
    "plt.show()"
   ]
  },
  {
   "cell_type": "markdown",
   "id": "e88e96c9",
   "metadata": {},
   "source": [
    "## Checking for Multicollinearity"
   ]
  },
  {
   "cell_type": "markdown",
   "id": "7cfef1e5",
   "metadata": {},
   "source": [
    "## Heatmap for expressing correlation"
   ]
  },
  {
   "cell_type": "code",
   "execution_count": 39,
   "id": "43d78edd",
   "metadata": {},
   "outputs": [
    {
     "data": {
      "image/png": "[encoded data removed]",
      "text/plain": [
       "<Figure size 1080x720 with 2 Axes>"
      ]
     },
     "metadata": {
      "needs_background": "light"
     },
     "output_type": "display_data"
    }
   ],
   "source": [
    "plt.figure(figsize =(15,10))\n",
    "sns.heatmap(df.corr(),robust=True,fmt='.1g',linewidths=1.3,linecolor='gold',annot=True);"
   ]
  },
  {
   "cell_type": "markdown",
   "id": "32b846c5",
   "metadata": {},
   "source": [
    "### Dropping columns that doesn't affect the output variable"
   ]
  },
  {
   "cell_type": "code",
   "execution_count": 40,
   "id": "dc890fa7",
   "metadata": {},
   "outputs": [],
   "source": [
    "df.drop(df.columns[[0,1,4]], axis = 1, inplace = True)"
   ]
  },
  {
   "cell_type": "code",
   "execution_count": 41,
   "id": "b1c01197",
   "metadata": {},
   "outputs": [
    {
     "data": {
      "text/html": [
       "<div>\n",
       "<style scoped>\n",
       "    .dataframe tbody tr th:only-of-type {\n",
       "        vertical-align: middle;\n",
       "    }\n",
       "\n",
       "    .dataframe tbody tr th {\n",
       "        vertical-align: top;\n",
       "    }\n",
       "\n",
       "    .dataframe thead th {\n",
       "        text-align: right;\n",
       "    }\n",
       "</style>\n",
       "<table border=\"1\" class=\"dataframe\">\n",
       "  <thead>\n",
       "    <tr style=\"text-align: right;\">\n",
       "      <th></th>\n",
       "      <th>HoA</th>\n",
       "      <th>settled_in</th>\n",
       "      <th>shots</th>\n",
       "      <th>hits</th>\n",
       "      <th>pim</th>\n",
       "      <th>powerPlayOpportunities</th>\n",
       "      <th>powerPlayGoals</th>\n",
       "      <th>faceOffWinPercentage</th>\n",
       "      <th>giveaways</th>\n",
       "      <th>takeaways</th>\n",
       "      <th>blocked</th>\n",
       "      <th>startRinkSide</th>\n",
       "      <th>goals</th>\n",
       "      <th>won</th>\n",
       "    </tr>\n",
       "  </thead>\n",
       "  <tbody>\n",
       "    <tr>\n",
       "      <th>0</th>\n",
       "      <td>away</td>\n",
       "      <td>REG</td>\n",
       "      <td>27.0</td>\n",
       "      <td>30.0</td>\n",
       "      <td>6.0</td>\n",
       "      <td>4.0</td>\n",
       "      <td>2.0</td>\n",
       "      <td>50.9</td>\n",
       "      <td>12.0</td>\n",
       "      <td>9.0</td>\n",
       "      <td>11.0</td>\n",
       "      <td>left</td>\n",
       "      <td>4.0</td>\n",
       "      <td>False</td>\n",
       "    </tr>\n",
       "    <tr>\n",
       "      <th>1</th>\n",
       "      <td>home</td>\n",
       "      <td>REG</td>\n",
       "      <td>28.0</td>\n",
       "      <td>20.0</td>\n",
       "      <td>8.0</td>\n",
       "      <td>3.0</td>\n",
       "      <td>2.0</td>\n",
       "      <td>49.1</td>\n",
       "      <td>16.0</td>\n",
       "      <td>8.0</td>\n",
       "      <td>9.0</td>\n",
       "      <td>left</td>\n",
       "      <td>7.0</td>\n",
       "      <td>True</td>\n",
       "    </tr>\n",
       "    <tr>\n",
       "      <th>2</th>\n",
       "      <td>away</td>\n",
       "      <td>OT</td>\n",
       "      <td>34.0</td>\n",
       "      <td>16.0</td>\n",
       "      <td>6.0</td>\n",
       "      <td>3.0</td>\n",
       "      <td>1.0</td>\n",
       "      <td>50.0</td>\n",
       "      <td>7.0</td>\n",
       "      <td>4.0</td>\n",
       "      <td>14.0</td>\n",
       "      <td>right</td>\n",
       "      <td>4.0</td>\n",
       "      <td>True</td>\n",
       "    </tr>\n",
       "    <tr>\n",
       "      <th>3</th>\n",
       "      <td>home</td>\n",
       "      <td>OT</td>\n",
       "      <td>33.0</td>\n",
       "      <td>17.0</td>\n",
       "      <td>8.0</td>\n",
       "      <td>2.0</td>\n",
       "      <td>1.0</td>\n",
       "      <td>50.0</td>\n",
       "      <td>5.0</td>\n",
       "      <td>6.0</td>\n",
       "      <td>14.0</td>\n",
       "      <td>right</td>\n",
       "      <td>3.0</td>\n",
       "      <td>False</td>\n",
       "    </tr>\n",
       "    <tr>\n",
       "      <th>4</th>\n",
       "      <td>away</td>\n",
       "      <td>REG</td>\n",
       "      <td>29.0</td>\n",
       "      <td>17.0</td>\n",
       "      <td>9.0</td>\n",
       "      <td>3.0</td>\n",
       "      <td>1.0</td>\n",
       "      <td>45.7</td>\n",
       "      <td>13.0</td>\n",
       "      <td>5.0</td>\n",
       "      <td>20.0</td>\n",
       "      <td>left</td>\n",
       "      <td>4.0</td>\n",
       "      <td>True</td>\n",
       "    </tr>\n",
       "    <tr>\n",
       "      <th>...</th>\n",
       "      <td>...</td>\n",
       "      <td>...</td>\n",
       "      <td>...</td>\n",
       "      <td>...</td>\n",
       "      <td>...</td>\n",
       "      <td>...</td>\n",
       "      <td>...</td>\n",
       "      <td>...</td>\n",
       "      <td>...</td>\n",
       "      <td>...</td>\n",
       "      <td>...</td>\n",
       "      <td>...</td>\n",
       "      <td>...</td>\n",
       "      <td>...</td>\n",
       "    </tr>\n",
       "    <tr>\n",
       "      <th>52605</th>\n",
       "      <td>home</td>\n",
       "      <td>REG</td>\n",
       "      <td>29.0</td>\n",
       "      <td>29.0</td>\n",
       "      <td>20.0</td>\n",
       "      <td>4.0</td>\n",
       "      <td>0.0</td>\n",
       "      <td>50.0</td>\n",
       "      <td>12.0</td>\n",
       "      <td>11.0</td>\n",
       "      <td>9.0</td>\n",
       "      <td>right</td>\n",
       "      <td>1.0</td>\n",
       "      <td>False</td>\n",
       "    </tr>\n",
       "    <tr>\n",
       "      <th>52606</th>\n",
       "      <td>away</td>\n",
       "      <td>REG</td>\n",
       "      <td>20.0</td>\n",
       "      <td>36.0</td>\n",
       "      <td>2.0</td>\n",
       "      <td>0.0</td>\n",
       "      <td>0.0</td>\n",
       "      <td>49.0</td>\n",
       "      <td>7.0</td>\n",
       "      <td>8.0</td>\n",
       "      <td>21.0</td>\n",
       "      <td>right</td>\n",
       "      <td>4.0</td>\n",
       "      <td>True</td>\n",
       "    </tr>\n",
       "    <tr>\n",
       "      <th>52607</th>\n",
       "      <td>home</td>\n",
       "      <td>REG</td>\n",
       "      <td>33.0</td>\n",
       "      <td>28.0</td>\n",
       "      <td>0.0</td>\n",
       "      <td>1.0</td>\n",
       "      <td>0.0</td>\n",
       "      <td>51.0</td>\n",
       "      <td>13.0</td>\n",
       "      <td>6.0</td>\n",
       "      <td>7.0</td>\n",
       "      <td>right</td>\n",
       "      <td>1.0</td>\n",
       "      <td>False</td>\n",
       "    </tr>\n",
       "    <tr>\n",
       "      <th>52608</th>\n",
       "      <td>away</td>\n",
       "      <td>REG</td>\n",
       "      <td>20.0</td>\n",
       "      <td>36.0</td>\n",
       "      <td>2.0</td>\n",
       "      <td>0.0</td>\n",
       "      <td>0.0</td>\n",
       "      <td>49.0</td>\n",
       "      <td>7.0</td>\n",
       "      <td>8.0</td>\n",
       "      <td>21.0</td>\n",
       "      <td>right</td>\n",
       "      <td>4.0</td>\n",
       "      <td>True</td>\n",
       "    </tr>\n",
       "    <tr>\n",
       "      <th>52609</th>\n",
       "      <td>home</td>\n",
       "      <td>REG</td>\n",
       "      <td>33.0</td>\n",
       "      <td>28.0</td>\n",
       "      <td>0.0</td>\n",
       "      <td>1.0</td>\n",
       "      <td>0.0</td>\n",
       "      <td>51.0</td>\n",
       "      <td>13.0</td>\n",
       "      <td>6.0</td>\n",
       "      <td>7.0</td>\n",
       "      <td>right</td>\n",
       "      <td>1.0</td>\n",
       "      <td>False</td>\n",
       "    </tr>\n",
       "  </tbody>\n",
       "</table>\n",
       "<p>52610 rows × 14 columns</p>\n",
       "</div>"
      ],
      "text/plain": [
       "        HoA settled_in  shots  hits   pim  powerPlayOpportunities  \\\n",
       "0      away        REG   27.0  30.0   6.0                     4.0   \n",
       "1      home        REG   28.0  20.0   8.0                     3.0   \n",
       "2      away         OT   34.0  16.0   6.0                     3.0   \n",
       "3      home         OT   33.0  17.0   8.0                     2.0   \n",
       "4      away        REG   29.0  17.0   9.0                     3.0   \n",
       "...     ...        ...    ...   ...   ...                     ...   \n",
       "52605  home        REG   29.0  29.0  20.0                     4.0   \n",
       "52606  away        REG   20.0  36.0   2.0                     0.0   \n",
       "52607  home        REG   33.0  28.0   0.0                     1.0   \n",
       "52608  away        REG   20.0  36.0   2.0                     0.0   \n",
       "52609  home        REG   33.0  28.0   0.0                     1.0   \n",
       "\n",
       "       powerPlayGoals  faceOffWinPercentage  giveaways  takeaways  blocked  \\\n",
       "0                 2.0                  50.9       12.0        9.0     11.0   \n",
       "1                 2.0                  49.1       16.0        8.0      9.0   \n",
       "2                 1.0                  50.0        7.0        4.0     14.0   \n",
       "3                 1.0                  50.0        5.0        6.0     14.0   \n",
       "4                 1.0                  45.7       13.0        5.0     20.0   \n",
       "...               ...                   ...        ...        ...      ...   \n",
       "52605             0.0                  50.0       12.0       11.0      9.0   \n",
       "52606             0.0                  49.0        7.0        8.0     21.0   \n",
       "52607             0.0                  51.0       13.0        6.0      7.0   \n",
       "52608             0.0                  49.0        7.0        8.0     21.0   \n",
       "52609             0.0                  51.0       13.0        6.0      7.0   \n",
       "\n",
       "      startRinkSide  goals    won  \n",
       "0              left    4.0  False  \n",
       "1              left    7.0   True  \n",
       "2             right    4.0   True  \n",
       "3             right    3.0  False  \n",
       "4              left    4.0   True  \n",
       "...             ...    ...    ...  \n",
       "52605         right    1.0  False  \n",
       "52606         right    4.0   True  \n",
       "52607         right    1.0  False  \n",
       "52608         right    4.0   True  \n",
       "52609         right    1.0  False  \n",
       "\n",
       "[52610 rows x 14 columns]"
      ]
     },
     "execution_count": 41,
     "metadata": {},
     "output_type": "execute_result"
    }
   ],
   "source": [
    "df"
   ]
  },
  {
   "cell_type": "markdown",
   "id": "2a32dfdf",
   "metadata": {},
   "source": [
    "### One-Hot Encoding categorical variables in columns that affect the output variable"
   ]
  },
  {
   "cell_type": "code",
   "execution_count": 42,
   "id": "4b744423",
   "metadata": {},
   "outputs": [],
   "source": [
    "df = pd.get_dummies(df, columns = ['HoA','settled_in','startRinkSide','won'], drop_first = True)"
   ]
  },
  {
   "cell_type": "code",
   "execution_count": 43,
   "id": "8f4f88e0",
   "metadata": {},
   "outputs": [
    {
     "data": {
      "text/html": [
       "<div>\n",
       "<style scoped>\n",
       "    .dataframe tbody tr th:only-of-type {\n",
       "        vertical-align: middle;\n",
       "    }\n",
       "\n",
       "    .dataframe tbody tr th {\n",
       "        vertical-align: top;\n",
       "    }\n",
       "\n",
       "    .dataframe thead th {\n",
       "        text-align: right;\n",
       "    }\n",
       "</style>\n",
       "<table border=\"1\" class=\"dataframe\">\n",
       "  <thead>\n",
       "    <tr style=\"text-align: right;\">\n",
       "      <th></th>\n",
       "      <th>shots</th>\n",
       "      <th>hits</th>\n",
       "      <th>pim</th>\n",
       "      <th>powerPlayOpportunities</th>\n",
       "      <th>powerPlayGoals</th>\n",
       "      <th>faceOffWinPercentage</th>\n",
       "      <th>giveaways</th>\n",
       "      <th>takeaways</th>\n",
       "      <th>blocked</th>\n",
       "      <th>goals</th>\n",
       "      <th>HoA_home</th>\n",
       "      <th>settled_in_REG</th>\n",
       "      <th>settled_in_tbc</th>\n",
       "      <th>startRinkSide_right</th>\n",
       "      <th>won_True</th>\n",
       "    </tr>\n",
       "  </thead>\n",
       "  <tbody>\n",
       "    <tr>\n",
       "      <th>0</th>\n",
       "      <td>27.0</td>\n",
       "      <td>30.0</td>\n",
       "      <td>6.0</td>\n",
       "      <td>4.0</td>\n",
       "      <td>2.0</td>\n",
       "      <td>50.9</td>\n",
       "      <td>12.0</td>\n",
       "      <td>9.0</td>\n",
       "      <td>11.0</td>\n",
       "      <td>4.0</td>\n",
       "      <td>0</td>\n",
       "      <td>1</td>\n",
       "      <td>0</td>\n",
       "      <td>0</td>\n",
       "      <td>0</td>\n",
       "    </tr>\n",
       "    <tr>\n",
       "      <th>1</th>\n",
       "      <td>28.0</td>\n",
       "      <td>20.0</td>\n",
       "      <td>8.0</td>\n",
       "      <td>3.0</td>\n",
       "      <td>2.0</td>\n",
       "      <td>49.1</td>\n",
       "      <td>16.0</td>\n",
       "      <td>8.0</td>\n",
       "      <td>9.0</td>\n",
       "      <td>7.0</td>\n",
       "      <td>1</td>\n",
       "      <td>1</td>\n",
       "      <td>0</td>\n",
       "      <td>0</td>\n",
       "      <td>1</td>\n",
       "    </tr>\n",
       "    <tr>\n",
       "      <th>2</th>\n",
       "      <td>34.0</td>\n",
       "      <td>16.0</td>\n",
       "      <td>6.0</td>\n",
       "      <td>3.0</td>\n",
       "      <td>1.0</td>\n",
       "      <td>50.0</td>\n",
       "      <td>7.0</td>\n",
       "      <td>4.0</td>\n",
       "      <td>14.0</td>\n",
       "      <td>4.0</td>\n",
       "      <td>0</td>\n",
       "      <td>0</td>\n",
       "      <td>0</td>\n",
       "      <td>1</td>\n",
       "      <td>1</td>\n",
       "    </tr>\n",
       "    <tr>\n",
       "      <th>3</th>\n",
       "      <td>33.0</td>\n",
       "      <td>17.0</td>\n",
       "      <td>8.0</td>\n",
       "      <td>2.0</td>\n",
       "      <td>1.0</td>\n",
       "      <td>50.0</td>\n",
       "      <td>5.0</td>\n",
       "      <td>6.0</td>\n",
       "      <td>14.0</td>\n",
       "      <td>3.0</td>\n",
       "      <td>1</td>\n",
       "      <td>0</td>\n",
       "      <td>0</td>\n",
       "      <td>1</td>\n",
       "      <td>0</td>\n",
       "    </tr>\n",
       "    <tr>\n",
       "      <th>4</th>\n",
       "      <td>29.0</td>\n",
       "      <td>17.0</td>\n",
       "      <td>9.0</td>\n",
       "      <td>3.0</td>\n",
       "      <td>1.0</td>\n",
       "      <td>45.7</td>\n",
       "      <td>13.0</td>\n",
       "      <td>5.0</td>\n",
       "      <td>20.0</td>\n",
       "      <td>4.0</td>\n",
       "      <td>0</td>\n",
       "      <td>1</td>\n",
       "      <td>0</td>\n",
       "      <td>0</td>\n",
       "      <td>1</td>\n",
       "    </tr>\n",
       "    <tr>\n",
       "      <th>...</th>\n",
       "      <td>...</td>\n",
       "      <td>...</td>\n",
       "      <td>...</td>\n",
       "      <td>...</td>\n",
       "      <td>...</td>\n",
       "      <td>...</td>\n",
       "      <td>...</td>\n",
       "      <td>...</td>\n",
       "      <td>...</td>\n",
       "      <td>...</td>\n",
       "      <td>...</td>\n",
       "      <td>...</td>\n",
       "      <td>...</td>\n",
       "      <td>...</td>\n",
       "      <td>...</td>\n",
       "    </tr>\n",
       "    <tr>\n",
       "      <th>52605</th>\n",
       "      <td>29.0</td>\n",
       "      <td>29.0</td>\n",
       "      <td>20.0</td>\n",
       "      <td>4.0</td>\n",
       "      <td>0.0</td>\n",
       "      <td>50.0</td>\n",
       "      <td>12.0</td>\n",
       "      <td>11.0</td>\n",
       "      <td>9.0</td>\n",
       "      <td>1.0</td>\n",
       "      <td>1</td>\n",
       "      <td>1</td>\n",
       "      <td>0</td>\n",
       "      <td>1</td>\n",
       "      <td>0</td>\n",
       "    </tr>\n",
       "    <tr>\n",
       "      <th>52606</th>\n",
       "      <td>20.0</td>\n",
       "      <td>36.0</td>\n",
       "      <td>2.0</td>\n",
       "      <td>0.0</td>\n",
       "      <td>0.0</td>\n",
       "      <td>49.0</td>\n",
       "      <td>7.0</td>\n",
       "      <td>8.0</td>\n",
       "      <td>21.0</td>\n",
       "      <td>4.0</td>\n",
       "      <td>0</td>\n",
       "      <td>1</td>\n",
       "      <td>0</td>\n",
       "      <td>1</td>\n",
       "      <td>1</td>\n",
       "    </tr>\n",
       "    <tr>\n",
       "      <th>52607</th>\n",
       "      <td>33.0</td>\n",
       "      <td>28.0</td>\n",
       "      <td>0.0</td>\n",
       "      <td>1.0</td>\n",
       "      <td>0.0</td>\n",
       "      <td>51.0</td>\n",
       "      <td>13.0</td>\n",
       "      <td>6.0</td>\n",
       "      <td>7.0</td>\n",
       "      <td>1.0</td>\n",
       "      <td>1</td>\n",
       "      <td>1</td>\n",
       "      <td>0</td>\n",
       "      <td>1</td>\n",
       "      <td>0</td>\n",
       "    </tr>\n",
       "    <tr>\n",
       "      <th>52608</th>\n",
       "      <td>20.0</td>\n",
       "      <td>36.0</td>\n",
       "      <td>2.0</td>\n",
       "      <td>0.0</td>\n",
       "      <td>0.0</td>\n",
       "      <td>49.0</td>\n",
       "      <td>7.0</td>\n",
       "      <td>8.0</td>\n",
       "      <td>21.0</td>\n",
       "      <td>4.0</td>\n",
       "      <td>0</td>\n",
       "      <td>1</td>\n",
       "      <td>0</td>\n",
       "      <td>1</td>\n",
       "      <td>1</td>\n",
       "    </tr>\n",
       "    <tr>\n",
       "      <th>52609</th>\n",
       "      <td>33.0</td>\n",
       "      <td>28.0</td>\n",
       "      <td>0.0</td>\n",
       "      <td>1.0</td>\n",
       "      <td>0.0</td>\n",
       "      <td>51.0</td>\n",
       "      <td>13.0</td>\n",
       "      <td>6.0</td>\n",
       "      <td>7.0</td>\n",
       "      <td>1.0</td>\n",
       "      <td>1</td>\n",
       "      <td>1</td>\n",
       "      <td>0</td>\n",
       "      <td>1</td>\n",
       "      <td>0</td>\n",
       "    </tr>\n",
       "  </tbody>\n",
       "</table>\n",
       "<p>52610 rows × 15 columns</p>\n",
       "</div>"
      ],
      "text/plain": [
       "       shots  hits   pim  powerPlayOpportunities  powerPlayGoals  \\\n",
       "0       27.0  30.0   6.0                     4.0             2.0   \n",
       "1       28.0  20.0   8.0                     3.0             2.0   \n",
       "2       34.0  16.0   6.0                     3.0             1.0   \n",
       "3       33.0  17.0   8.0                     2.0             1.0   \n",
       "4       29.0  17.0   9.0                     3.0             1.0   \n",
       "...      ...   ...   ...                     ...             ...   \n",
       "52605   29.0  29.0  20.0                     4.0             0.0   \n",
       "52606   20.0  36.0   2.0                     0.0             0.0   \n",
       "52607   33.0  28.0   0.0                     1.0             0.0   \n",
       "52608   20.0  36.0   2.0                     0.0             0.0   \n",
       "52609   33.0  28.0   0.0                     1.0             0.0   \n",
       "\n",
       "       faceOffWinPercentage  giveaways  takeaways  blocked  goals  HoA_home  \\\n",
       "0                      50.9       12.0        9.0     11.0    4.0         0   \n",
       "1                      49.1       16.0        8.0      9.0    7.0         1   \n",
       "2                      50.0        7.0        4.0     14.0    4.0         0   \n",
       "3                      50.0        5.0        6.0     14.0    3.0         1   \n",
       "4                      45.7       13.0        5.0     20.0    4.0         0   \n",
       "...                     ...        ...        ...      ...    ...       ...   \n",
       "52605                  50.0       12.0       11.0      9.0    1.0         1   \n",
       "52606                  49.0        7.0        8.0     21.0    4.0         0   \n",
       "52607                  51.0       13.0        6.0      7.0    1.0         1   \n",
       "52608                  49.0        7.0        8.0     21.0    4.0         0   \n",
       "52609                  51.0       13.0        6.0      7.0    1.0         1   \n",
       "\n",
       "       settled_in_REG  settled_in_tbc  startRinkSide_right  won_True  \n",
       "0                   1               0                    0         0  \n",
       "1                   1               0                    0         1  \n",
       "2                   0               0                    1         1  \n",
       "3                   0               0                    1         0  \n",
       "4                   1               0                    0         1  \n",
       "...               ...             ...                  ...       ...  \n",
       "52605               1               0                    1         0  \n",
       "52606               1               0                    1         1  \n",
       "52607               1               0                    1         0  \n",
       "52608               1               0                    1         1  \n",
       "52609               1               0                    1         0  \n",
       "\n",
       "[52610 rows x 15 columns]"
      ]
     },
     "execution_count": 43,
     "metadata": {},
     "output_type": "execute_result"
    }
   ],
   "source": [
    "df"
   ]
  },
  {
   "cell_type": "markdown",
   "id": "176796bb",
   "metadata": {},
   "source": [
    "## Model selection and building"
   ]
  },
  {
   "cell_type": "markdown",
   "id": "6092fb71",
   "metadata": {},
   "source": [
    "### Splitting the X and Y values"
   ]
  },
  {
   "cell_type": "code",
   "execution_count": 44,
   "id": "63837f7c",
   "metadata": {},
   "outputs": [],
   "source": [
    "X = df.iloc[:,:-1].values\n",
    "y = df.iloc[:,-1].values"
   ]
  },
  {
   "cell_type": "markdown",
   "id": "2c323e62",
   "metadata": {},
   "source": [
    "### Splitting training and testing data"
   ]
  },
  {
   "cell_type": "code",
   "execution_count": 45,
   "id": "12d944ac",
   "metadata": {},
   "outputs": [],
   "source": [
    "from sklearn.model_selection import train_test_split\n",
    "X_train, X_test, y_train, y_test = train_test_split(X, y, test_size=0.2, random_state=0)"
   ]
  },
  {
   "cell_type": "markdown",
   "id": "19377ad9",
   "metadata": {},
   "source": [
    "## Feature Scaling (It is done to bring values of all the colums to same scale)"
   ]
  },
  {
   "cell_type": "code",
   "execution_count": 46,
   "id": "b734e8dd",
   "metadata": {},
   "outputs": [
    {
     "name": "stdout",
     "output_type": "stream",
     "text": [
      "[[ 0.03978008  0.61089871  0.81995067 ...  0.55250034 -0.02966284\n",
      "  -0.89404951]\n",
      " [-0.57780166  2.27350101  1.17214649 ...  0.55250034 -0.02966284\n",
      "  -0.89404951]\n",
      " [-0.57780166  0.86668368 -1.11712635 ...  0.55250034 -0.02966284\n",
      "  -0.89404951]\n",
      " ...\n",
      " [-0.88659253  0.22722126 -0.76493053 ... -1.80995363 -0.02966284\n",
      "  -0.89404951]\n",
      " [ 1.73812987 -0.66802613 -1.46932217 ...  0.55250034 -0.02966284\n",
      "   1.11850629]\n",
      " [-1.6585697   0.86668368  0.46775484 ... -1.80995363 -0.02966284\n",
      "   1.11850629]]\n",
      "[[ 0.50296639  0.48300623 -1.11712635 ... -1.80995363 -0.02966284\n",
      "   1.11850629]\n",
      " [ 0.81175726 -0.41224116 -1.11712635 ...  0.55250034 -0.02966284\n",
      "  -0.89404951]\n",
      " [ 0.19417552 -0.41224116 -1.46932217 ...  0.55250034 -0.02966284\n",
      "   1.11850629]\n",
      " ...\n",
      " [-1.04098796 -0.66802613  0.99604858 ...  0.55250034 -0.02966284\n",
      "  -0.89404951]\n",
      " [ 0.65736182  0.7387912   0.11555902 ...  0.55250034 -0.02966284\n",
      "   1.11850629]\n",
      " [ 0.03978008 -1.81905849 -0.06053889 ... -1.80995363 -0.02966284\n",
      "  -0.89404951]]\n"
     ]
    }
   ],
   "source": [
    "from sklearn.preprocessing import StandardScaler\n",
    "sc = StandardScaler()\n",
    "X_train = sc.fit_transform(X_train)\n",
    "X_test = sc.transform(X_test)\n",
    "print(X_train)\n",
    "print(X_test)"
   ]
  },
  {
   "cell_type": "markdown",
   "id": "ac0c64de",
   "metadata": {},
   "source": [
    "## Linear Regression"
   ]
  },
  {
   "cell_type": "code",
   "execution_count": 58,
   "id": "e1e3e10a",
   "metadata": {},
   "outputs": [],
   "source": [
    "from sklearn.linear_model import LinearRegression"
   ]
  },
  {
   "cell_type": "code",
   "execution_count": 59,
   "id": "87235db6",
   "metadata": {},
   "outputs": [
    {
     "data": {
      "text/plain": [
       "LinearRegression()"
      ]
     },
     "execution_count": 59,
     "metadata": {},
     "output_type": "execute_result"
    }
   ],
   "source": [
    "lr = LinearRegression()\n",
    "lr.fit(X_train,y_train)"
   ]
  },
  {
   "cell_type": "code",
   "execution_count": 60,
   "id": "1765adec",
   "metadata": {},
   "outputs": [
    {
     "data": {
      "text/plain": [
       "0.48586295381106304"
      ]
     },
     "execution_count": 60,
     "metadata": {},
     "output_type": "execute_result"
    }
   ],
   "source": [
    "lr.intercept_"
   ]
  },
  {
   "cell_type": "code",
   "execution_count": 61,
   "id": "ece6ed8b",
   "metadata": {},
   "outputs": [
    {
     "data": {
      "text/plain": [
       "array([-0.02815347, -0.0094485 , -0.02300477, -0.00486172, -0.00717936,\n",
       "        0.00182115, -0.02108113,  0.02149878,  0.05034451,  0.29774932,\n",
       "        0.02993938,  0.01464303, -0.00432778,  0.00597356])"
      ]
     },
     "execution_count": 61,
     "metadata": {},
     "output_type": "execute_result"
    }
   ],
   "source": [
    "lr.coef_"
   ]
  },
  {
   "cell_type": "code",
   "execution_count": 62,
   "id": "15f10e15",
   "metadata": {},
   "outputs": [],
   "source": [
    "y_pred = lr.predict(X_test)"
   ]
  },
  {
   "cell_type": "code",
   "execution_count": 63,
   "id": "0cf79b61",
   "metadata": {},
   "outputs": [],
   "source": [
    "from sklearn.metrics import mean_absolute_error,mean_squared_error, r2_score"
   ]
  },
  {
   "cell_type": "code",
   "execution_count": 68,
   "id": "bd664e4f",
   "metadata": {},
   "outputs": [
    {
     "data": {
      "text/plain": [
       "0.33332926315114386"
      ]
     },
     "execution_count": 68,
     "metadata": {},
     "output_type": "execute_result"
    }
   ],
   "source": [
    "mean_absolute_error(y_test, y_pred)"
   ]
  },
  {
   "cell_type": "code",
   "execution_count": 69,
   "id": "4363b2cf",
   "metadata": {},
   "outputs": [
    {
     "data": {
      "text/plain": [
       "0.15717452342453142"
      ]
     },
     "execution_count": 69,
     "metadata": {},
     "output_type": "execute_result"
    }
   ],
   "source": [
    "mean_squared_error(y_test, y_pred)"
   ]
  },
  {
   "cell_type": "code",
   "execution_count": 70,
   "id": "2d4169be",
   "metadata": {},
   "outputs": [
    {
     "data": {
      "text/plain": [
       "0.3712517256939514"
      ]
     },
     "execution_count": 70,
     "metadata": {},
     "output_type": "execute_result"
    }
   ],
   "source": [
    "r2_score(y_test, y_pred)"
   ]
  },
  {
   "cell_type": "code",
   "execution_count": 71,
   "id": "10ce130e",
   "metadata": {},
   "outputs": [
    {
     "name": "stdout",
     "output_type": "stream",
     "text": [
      "RMSE of Linear Regression Model is  0.39645242264934066\n"
     ]
    }
   ],
   "source": [
    "from math import sqrt\n",
    "print(\"RMSE of Linear Regression Model is \",sqrt(mean_squared_error(y_test, y_pred)))"
   ]
  },
  {
   "cell_type": "markdown",
   "id": "a332afc2",
   "metadata": {},
   "source": [
    "## DecisionTreeRegressor"
   ]
  },
  {
   "cell_type": "code",
   "execution_count": 72,
   "id": "e3c37f3e",
   "metadata": {},
   "outputs": [],
   "source": [
    "from sklearn.tree import DecisionTreeRegressor\n",
    "\n",
    "# create a regressor object \n",
    "regressor = DecisionTreeRegressor(random_state = 0)  "
   ]
  },
  {
   "cell_type": "code",
   "execution_count": 73,
   "id": "ff938504",
   "metadata": {},
   "outputs": [
    {
     "data": {
      "text/plain": [
       "DecisionTreeRegressor(random_state=0)"
      ]
     },
     "execution_count": 73,
     "metadata": {},
     "output_type": "execute_result"
    }
   ],
   "source": [
    "regressor.fit(X_train, y_train)"
   ]
  },
  {
   "cell_type": "code",
   "execution_count": 74,
   "id": "d8a83f49",
   "metadata": {},
   "outputs": [],
   "source": [
    "dt_y_pred = regressor.predict(X_test)"
   ]
  },
  {
   "cell_type": "code",
   "execution_count": 75,
   "id": "4db14007",
   "metadata": {},
   "outputs": [
    {
     "data": {
      "text/plain": [
       "0.24762402585059876"
      ]
     },
     "execution_count": 75,
     "metadata": {},
     "output_type": "execute_result"
    }
   ],
   "source": [
    "mean_absolute_error(y_test, dt_y_pred)"
   ]
  },
  {
   "cell_type": "code",
   "execution_count": 76,
   "id": "71c2f3d0",
   "metadata": {},
   "outputs": [
    {
     "data": {
      "text/plain": [
       "0.24745770766014066"
      ]
     },
     "execution_count": 76,
     "metadata": {},
     "output_type": "execute_result"
    }
   ],
   "source": [
    "mean_squared_error(y_test, dt_y_pred)"
   ]
  },
  {
   "cell_type": "code",
   "execution_count": 77,
   "id": "5f81f017",
   "metadata": {},
   "outputs": [
    {
     "data": {
      "text/plain": [
       "0.010090164327737239"
      ]
     },
     "execution_count": 77,
     "metadata": {},
     "output_type": "execute_result"
    }
   ],
   "source": [
    "r2_score(y_test, dt_y_pred)"
   ]
  },
  {
   "cell_type": "code",
   "execution_count": 78,
   "id": "31067d37",
   "metadata": {},
   "outputs": [
    {
     "name": "stdout",
     "output_type": "stream",
     "text": [
      "RMSE of Linear Regression Model is  0.4974512113364894\n"
     ]
    }
   ],
   "source": [
    "from math import sqrt\n",
    "print(\"RMSE of Linear Regression Model is \",sqrt(mean_squared_error(y_test, dt_y_pred)))"
   ]
  },
  {
   "cell_type": "markdown",
   "id": "5ff8dab5",
   "metadata": {},
   "source": [
    "## Random Forest Regressor"
   ]
  },
  {
   "cell_type": "code",
   "execution_count": 79,
   "id": "d2dbf553",
   "metadata": {},
   "outputs": [],
   "source": [
    "from sklearn.ensemble import RandomForestRegressor\n",
    "\n",
    "# create a regressor object \n",
    "RFregressor = RandomForestRegressor(random_state = 0) "
   ]
  },
  {
   "cell_type": "code",
   "execution_count": 80,
   "id": "4fac07ab",
   "metadata": {},
   "outputs": [
    {
     "data": {
      "text/plain": [
       "RandomForestRegressor(random_state=0)"
      ]
     },
     "execution_count": 80,
     "metadata": {},
     "output_type": "execute_result"
    }
   ],
   "source": [
    "RFregressor.fit(X_train, y_train)"
   ]
  },
  {
   "cell_type": "code",
   "execution_count": 81,
   "id": "7cf2070d",
   "metadata": {},
   "outputs": [],
   "source": [
    "rf_y_pred = RFregressor.predict(X_test)"
   ]
  },
  {
   "cell_type": "code",
   "execution_count": 82,
   "id": "3405a232",
   "metadata": {},
   "outputs": [
    {
     "data": {
      "text/plain": [
       "0.26707570306206496"
      ]
     },
     "execution_count": 82,
     "metadata": {},
     "output_type": "execute_result"
    }
   ],
   "source": [
    "mean_absolute_error(y_test, rf_y_pred)"
   ]
  },
  {
   "cell_type": "code",
   "execution_count": 83,
   "id": "7a9db39f",
   "metadata": {},
   "outputs": [
    {
     "data": {
      "text/plain": [
       "0.1327222332880659"
      ]
     },
     "execution_count": 83,
     "metadata": {},
     "output_type": "execute_result"
    }
   ],
   "source": [
    "mean_squared_error(y_test, rf_y_pred)"
   ]
  },
  {
   "cell_type": "code",
   "execution_count": 84,
   "id": "e66da945",
   "metadata": {},
   "outputs": [
    {
     "data": {
      "text/plain": [
       "0.4690686930443605"
      ]
     },
     "execution_count": 84,
     "metadata": {},
     "output_type": "execute_result"
    }
   ],
   "source": [
    "r2_score(y_test, rf_y_pred)"
   ]
  },
  {
   "cell_type": "code",
   "execution_count": 85,
   "id": "3ef8070f",
   "metadata": {},
   "outputs": [
    {
     "name": "stdout",
     "output_type": "stream",
     "text": [
      "RMSE of Linear Regression Model is  0.36431062747065984\n"
     ]
    }
   ],
   "source": [
    "from math import sqrt\n",
    "print(\"RMSE of Linear Regression Model is \",sqrt(mean_squared_error(y_test, rf_y_pred)))"
   ]
  },
  {
   "cell_type": "code",
   "execution_count": 87,
   "id": "1ef977f9",
   "metadata": {},
   "outputs": [
    {
     "data": {
      "text/html": [
       "<div>\n",
       "<style scoped>\n",
       "    .dataframe tbody tr th:only-of-type {\n",
       "        vertical-align: middle;\n",
       "    }\n",
       "\n",
       "    .dataframe tbody tr th {\n",
       "        vertical-align: top;\n",
       "    }\n",
       "\n",
       "    .dataframe thead th {\n",
       "        text-align: right;\n",
       "    }\n",
       "</style>\n",
       "<table border=\"1\" class=\"dataframe\">\n",
       "  <thead>\n",
       "    <tr style=\"text-align: right;\">\n",
       "      <th></th>\n",
       "      <th>Model</th>\n",
       "    </tr>\n",
       "    <tr>\n",
       "      <th>Score</th>\n",
       "      <th></th>\n",
       "    </tr>\n",
       "  </thead>\n",
       "  <tbody>\n",
       "    <tr>\n",
       "      <th>0.497</th>\n",
       "      <td>DecisionTreeRegressor</td>\n",
       "    </tr>\n",
       "    <tr>\n",
       "      <th>0.396</th>\n",
       "      <td>Linear Regression</td>\n",
       "    </tr>\n",
       "    <tr>\n",
       "      <th>0.364</th>\n",
       "      <td>Random Forest Regressor</td>\n",
       "    </tr>\n",
       "  </tbody>\n",
       "</table>\n",
       "</div>"
      ],
      "text/plain": [
       "                         Model\n",
       "Score                         \n",
       "0.497    DecisionTreeRegressor\n",
       "0.396        Linear Regression\n",
       "0.364  Random Forest Regressor"
      ]
     },
     "execution_count": 87,
     "metadata": {},
     "output_type": "execute_result"
    }
   ],
   "source": [
    "results = pd.DataFrame({\n",
    "    'Model': ['Linear Regression','DecisionTreeRegressor', 'Random Forest Regressor'],\n",
    "    'Score': [0.396,0.497,0.364]})\n",
    "\n",
    "result_df = results.sort_values(by='Score', ascending=False)\n",
    "result_df = result_df.set_index('Score')\n",
    "result_df"
   ]
  },
  {
   "cell_type": "code",
   "execution_count": 88,
   "id": "f609d097",
   "metadata": {},
   "outputs": [],
   "source": [
    "#Observation:\n",
    "\n",
    "#DecisionTreeRegressor performs well than other models\n",
    "\n",
    "#Hence I will use DecisionTreeRegressor for training my model."
   ]
  },
  {
   "cell_type": "code",
   "execution_count": null,
   "id": "b79f81f4",
   "metadata": {},
   "outputs": [],
   "source": []
  },
  {
   "cell_type": "code",
   "execution_count": null,
   "id": "66705f78",
   "metadata": {},
   "outputs": [],
   "source": []
  },
  {
   "cell_type": "code",
   "execution_count": null,
   "id": "69004245",
   "metadata": {},
   "outputs": [],
   "source": []
  },
  {
   "cell_type": "code",
   "execution_count": null,
   "id": "437d41f3",
   "metadata": {},
   "outputs": [],
   "source": []
  }
 ],
 "metadata": {
  "kernelspec": {
   "display_name": "Python 3 (ipykernel)",
   "language": "python",
   "name": "python3"
  },
  "language_info": {
   "codemirror_mode": {
    "name": "ipython",
    "version": 3
   },
   "file_extension": ".py",
   "mimetype": "text/x-python",
   "name": "python",
   "nbconvert_exporter": "python",
   "pygments_lexer": "ipython3",
   "version": "3.9.12"
  }
 },
 "nbformat": 4,
 "nbformat_minor": 5
}
